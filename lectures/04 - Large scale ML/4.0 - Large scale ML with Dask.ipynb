{
 "cells": [
  {
   "cell_type": "markdown",
   "metadata": {
    "slideshow": {
     "slide_type": "slide"
    }
   },
   "source": [
    "# DAT300 - Large Scale Machine Learning with Dask"
   ]
  },
  {
   "cell_type": "markdown",
   "metadata": {},
   "source": [
    "<img src=\"./images/Dask_logo.png\" />"
   ]
  },
  {
   "cell_type": "markdown",
   "metadata": {},
   "source": [
    "[Dask](https://dask.org/) - parallel computing with Python"
   ]
  },
  {
   "cell_type": "markdown",
   "metadata": {
    "slideshow": {
     "slide_type": "slide"
    }
   },
   "source": [
    "## Motivation"
   ]
  },
  {
   "cell_type": "markdown",
   "metadata": {},
   "source": [
    "<img src=\"./images/puppy.jpg\" width=650/>"
   ]
  },
  {
   "cell_type": "markdown",
   "metadata": {},
   "source": [
    "* This is the kind of dataset you have worked with so far in DAT200\n",
    "* Structured datasets like **iris**, **Wisconsin breast cancer**, **Boston house pricing** for learning the fundamentals of machine learning \n",
    "* Small in size and ready for analysis"
   ]
  },
  {
   "cell_type": "markdown",
   "metadata": {
    "slideshow": {
     "slide_type": "slide"
    }
   },
   "source": [
    "<img src=\"./images/wolf.jpg\" width=450/>"
   ]
  },
  {
   "cell_type": "markdown",
   "metadata": {},
   "source": [
    "* This is the kind of data you will meet in real life\n",
    "* Potentially lots of problems in the way before you can even start modelling\n",
    "* Frequent big challange is **size** of the data"
   ]
  },
  {
   "cell_type": "markdown",
   "metadata": {
    "slideshow": {
     "slide_type": "slide"
    }
   },
   "source": [
    "* **Problem**: many of data science tools don't scale or don't scale easily\n",
    "* **Need**: tools that enable machine learning on larger datasets using larger resources in a user friendly way (high-level API)"
   ]
  },
  {
   "cell_type": "markdown",
   "metadata": {
    "slideshow": {
     "slide_type": "slide"
    }
   },
   "source": [
    "## Why Dask?"
   ]
  },
  {
   "cell_type": "markdown",
   "metadata": {
    "slideshow": {
     "slide_type": "fragment"
    }
   },
   "source": [
    "* **Dask** to the rescue\n",
    "    * **Parallelism**: conveniently distribute computation across many CPU cores to save time\n",
    "    * **Large data user interfaces**: convenient handling out of memory datasets\n",
    "    * Do all this familiar pure Python API\n",
    "    * Re-use legacy code with very few changes "
   ]
  },
  {
   "cell_type": "markdown",
   "metadata": {
    "slideshow": {
     "slide_type": "slide"
    }
   },
   "source": [
    "### Options for out-of-memory datasets"
   ]
  },
  {
   "cell_type": "markdown",
   "metadata": {},
   "source": [
    "<img src=\"./images/Scale-up-ML-tasks_CPU-&_RAM.png\" width=650/>"
   ]
  },
  {
   "cell_type": "markdown",
   "metadata": {
    "slideshow": {
     "slide_type": "slide"
    }
   },
   "source": [
    "**Sampling**"
   ]
  },
  {
   "cell_type": "markdown",
   "metadata": {},
   "source": [
    "* Is really **all data** needed for training?\n",
    "* **Sanity check** of how many samples are needed by use of **learning curves** (as introduced in DAT200)\n",
    "    * Start with 10% of data for training, then 20%, etc. and compare accuracy\n",
    "    * mlxtend package [implements](http://rasbt.github.io/mlxtend/user_guide/plotting/plot_learning_curves/) function `plot_learning_curves`\n",
    "    * scikit-learn code [implementing](https://scikit-learn.org/stable/auto_examples/model_selection/plot_learning_curve.html#sphx-glr-auto-examples-model-selection-plot-learning-curve-py) function `plot_learning_curve`"
   ]
  },
  {
   "cell_type": "markdown",
   "metadata": {},
   "source": [
    "<img src=\"./images/learning_curves.png\" width=750/>"
   ]
  },
  {
   "cell_type": "markdown",
   "metadata": {
    "slideshow": {
     "slide_type": "slide"
    }
   },
   "source": [
    "**Out-of-core algorithms and tools**"
   ]
  },
  {
   "cell_type": "markdown",
   "metadata": {},
   "source": [
    "Limitations with scikit-learn\n",
    "\n",
    "* uses **NumPy arrays** as the primary data structure\n",
    "* most algorithms/estimators in scikit-learn **expect in-memory** data\n",
    "* **exceptions**: algorithms/estimators that support **incremental learning** using the `.partial_fit` methods. Overview of those is [here](https://scikit-learn.org/stable/modules/computing.html)\n",
    "* Dask provides tools for work with large **out-of-memory datasets**\n",
    "    * [Dask arrays](http://docs.dask.org/en/latest/array.html) (based on NumPy arrays)\n",
    "    * [Dask dataframes](http://docs.dask.org/en/latest/dataframe.html) (based on Pandas dataframes)\n",
    "    * Both work nicely with estimators that implement `.partial_fit` for training"
   ]
  },
  {
   "cell_type": "markdown",
   "metadata": {
    "slideshow": {
     "slide_type": "slide"
    }
   },
   "source": [
    "**Other libraries**"
   ]
  },
  {
   "cell_type": "markdown",
   "metadata": {},
   "source": [
    "* Dask is capable of orchestrating workflow with other libraries such as \n",
    "    * **XGBoost**\n",
    "    * **TensorFlow**"
   ]
  }
 ],
 "metadata": {
  "celltoolbar": "Slideshow",
  "kernelspec": {
   "display_name": "Python 3",
   "language": "python",
   "name": "python3"
  },
  "language_info": {
   "codemirror_mode": {
    "name": "ipython",
    "version": 3
   },
   "file_extension": ".py",
   "mimetype": "text/x-python",
   "name": "python",
   "nbconvert_exporter": "python",
   "pygments_lexer": "ipython3",
   "version": "3.5.2"
  },
  "varInspector": {
   "cols": {
    "lenName": 16,
    "lenType": 16,
    "lenVar": 40
   },
   "kernels_config": {
    "python": {
     "delete_cmd_postfix": "",
     "delete_cmd_prefix": "del ",
     "library": "var_list.py",
     "varRefreshCmd": "print(var_dic_list())"
    },
    "r": {
     "delete_cmd_postfix": ") ",
     "delete_cmd_prefix": "rm(",
     "library": "var_list.r",
     "varRefreshCmd": "cat(var_dic_list()) "
    }
   },
   "types_to_exclude": [
    "module",
    "function",
    "builtin_function_or_method",
    "instance",
    "_Feature"
   ],
   "window_display": false
  }
 },
 "nbformat": 4,
 "nbformat_minor": 2
}
