{
 "cells": [
  {
   "cell_type": "markdown",
   "metadata": {
    "slideshow": {
     "slide_type": "slide"
    }
   },
   "source": [
    "# 4.1 Why scalable computing matters"
   ]
  },
  {
   "cell_type": "markdown",
   "metadata": {},
   "source": [
    "<img src=\"./images/scalable_computing.jpg\" width=\"600\"/>"
   ]
  },
  {
   "cell_type": "markdown",
   "metadata": {
    "slideshow": {
     "slide_type": "slide"
    }
   },
   "source": [
    "## *Subjects covered*"
   ]
  },
  {
   "cell_type": "markdown",
   "metadata": {},
   "source": [
    "* Dask: a framework for scalable computing\n",
    "* Directed Acyclic Graphs (DAG): how to read and interpre DAGs\n",
    "* Why DAGs are useful for distributed workloads\n",
    "* How Dask scheduler uses DAGs to compose, control and monitor computations\n",
    "* Introducing the companion dataset"
   ]
  },
  {
   "cell_type": "markdown",
   "metadata": {
    "slideshow": {
     "slide_type": "slide"
    }
   },
   "source": [
    "## *Content*"
   ]
  },
  {
   "cell_type": "markdown",
   "metadata": {},
   "source": [
    "- [Why Dask?](#Why-Dask?)\n",
    "- [Cooking with DAGs](#Cooking-with-DAGs)\n",
    "- [Scaling out, concurrency and recovery](#Scaling-out,-concurrency-and-recovery)\n",
    "- [Companion dataset](#Companion-dataset)\n",
    "- [Summary](#Summary)"
   ]
  },
  {
   "cell_type": "markdown",
   "metadata": {
    "slideshow": {
     "slide_type": "slide"
    }
   },
   "source": [
    "## Why Dask?"
   ]
  },
  {
   "cell_type": "markdown",
   "metadata": {},
   "source": [
    "Python Open Data Science Stack is a great set of tools for analysis of data\n",
    "\n",
    "* **Pandas** for data cleaning\n",
    "* **SciPy** and **Numpy** for scientific computing in general\n",
    "* **scikit-learn** for predictive modelling\n",
    "* **Keras**, **TensorFlow**, **PyTorch** for deep learning"
   ]
  },
  {
   "cell_type": "markdown",
   "metadata": {
    "slideshow": {
     "slide_type": "fragment"
    }
   },
   "source": [
    "... **as long as they fit into RAM of your computer!**"
   ]
  },
  {
   "cell_type": "markdown",
   "metadata": {
    "slideshow": {
     "slide_type": "slide"
    }
   },
   "source": [
    "### Rough three-tiered definition of data size"
   ]
  },
  {
   "cell_type": "markdown",
   "metadata": {
    "slideshow": {
     "slide_type": "slide"
    }
   },
   "source": [
    "#### Dask for native scalability in Python Open Data Science Stack"
   ]
  },
  {
   "cell_type": "markdown",
   "metadata": {},
   "source": [
    "Dask consists of several different components\n",
    "and APIs."
   ]
  },
  {
   "cell_type": "markdown",
   "metadata": {},
   "source": [
    "<img src=\"./images/dask_layers.png\" />"
   ]
  },
  {
   "cell_type": "markdown",
   "metadata": {
    "slideshow": {
     "slide_type": "slide"
    }
   },
   "source": [
    "### Dask components"
   ]
  },
  {
   "cell_type": "markdown",
   "metadata": {
    "slideshow": {
     "slide_type": "fragment"
    }
   },
   "source": [
    "**Task scheduler (Dask subsystem)**\n",
    "* Coordinates and monitors execution of computations across CPU cores and machines"
   ]
  },
  {
   "cell_type": "markdown",
   "metadata": {
    "slideshow": {
     "slide_type": "fragment"
    }
   },
   "source": [
    "**Dask Delayed objects and Dask Futures objects (low-level APIs)**\n",
    "* Delayed objects: evaluated *lazily*, i.e. just in time when the values are needed\n",
    "* Futures object: evaluated *eagerly*, i.e. in real time  regardless if the value is needed immediately or not"
   ]
  },
  {
   "cell_type": "markdown",
   "metadata": {
    "slideshow": {
     "slide_type": "slide"
    }
   },
   "source": [
    "**Dask Array, Bag, DataFrame and ML (high-level APIs)**\n",
    "* Operations on these high level APIs  result in **many prallel low-level** operations\n",
    "* ==> **Seamless** experience for the user"
   ]
  },
  {
   "cell_type": "markdown",
   "metadata": {},
   "source": [
    "<img src=\"./images/Dask_high_level_APIs.png\" width=\"1300\"/>"
   ]
  },
  {
   "cell_type": "markdown",
   "metadata": {
    "slideshow": {
     "slide_type": "slide"
    }
   },
   "source": [
    "### Key advantages of Dask"
   ]
  },
  {
   "cell_type": "markdown",
   "metadata": {
    "slideshow": {
     "slide_type": "fragment"
    }
   },
   "source": [
    "* **Fully** implemented in Python and **natively scales** Numpy, Pandas and scikit-learn"
   ]
  },
  {
   "cell_type": "markdown",
   "metadata": {
    "slideshow": {
     "slide_type": "fragment"
    }
   },
   "source": [
    "* Can be used effectively to work on\n",
    "    * medium sized datasets on a **single machine**\n",
    "    * large datasets on a **cluster**"
   ]
  },
  {
   "cell_type": "markdown",
   "metadata": {
    "slideshow": {
     "slide_type": "fragment"
    }
   },
   "source": [
    "* Can be used as a **general framework** for **parallelising most Python objects**\n"
   ]
  },
  {
   "cell_type": "markdown",
   "metadata": {
    "slideshow": {
     "slide_type": "fragment"
    }
   },
   "source": [
    "* Has **very low** configuration and maintenance overhead"
   ]
  },
  {
   "cell_type": "markdown",
   "metadata": {
    "slideshow": {
     "slide_type": "slide"
    }
   },
   "source": [
    "### Key features of Dask"
   ]
  },
  {
   "cell_type": "markdown",
   "metadata": {
    "slideshow": {
     "slide_type": "fragment"
    }
   },
   "source": [
    "* Dask **doesn't merely mirror** common operations and patterns that NumPy and Pandas users will find familiar\n"
   ]
  },
  {
   "cell_type": "markdown",
   "metadata": {
    "slideshow": {
     "slide_type": "fragment"
    }
   },
   "source": [
    "* The underlying objects used by Dask **are** corresponding objects from each respective library\n",
    "    * A Dask DataFrame consists of many Pandas DataFrames\n",
    "    * A Dask Array consists of many Numpy arrays\n",
    "    * etc."
   ]
  },
  {
   "cell_type": "markdown",
   "metadata": {
    "slideshow": {
     "slide_type": "fragment"
    }
   },
   "source": [
    "* Each of the smaller underlying objects are called **chunks** or **partitions**\n"
   ]
  },
  {
   "cell_type": "markdown",
   "metadata": {
    "slideshow": {
     "slide_type": "fragment"
    }
   },
   "source": [
    "* Chunks or partitions **can be shipped** from **machine to machine within a cluster**, or **queued up** and worked on **one piece at a time locally**"
   ]
  },
  {
   "cell_type": "markdown",
   "metadata": {
    "slideshow": {
     "slide_type": "slide"
    }
   },
   "source": [
    "### Why not other technologies?"
   ]
  },
  {
   "cell_type": "markdown",
   "metadata": {
    "slideshow": {
     "slide_type": "fragment"
    }
   },
   "source": [
    "* Well working and well established software like **PySpark** exist\n",
    "* They typically rely on other languages and technologies, not Python\n",
    "* Handling **multiple languages / technologies** is often **painfully difficult** \n",
    "* ==> **complicates maintenance** and **increases overhead** (need often extra manpower to keep systems up and running)\n",
    "* Would make parallelism **almost impossible** to achieve to a data scientist\n"
   ]
  },
  {
   "cell_type": "markdown",
   "metadata": {
    "slideshow": {
     "slide_type": "slide"
    }
   },
   "source": [
    "## Cooking with DAGs"
   ]
  },
  {
   "cell_type": "markdown",
   "metadata": {
    "slideshow": {
     "slide_type": "fragment"
    }
   },
   "source": [
    "* Dask schedulers use concept of **directed acyclic graphs** (DAGs)\n",
    "* DAGs come from a larger body of mathematics known as *graph theory*\n",
    "* Graph theory describes a graph as a **representation of a set of objects that have a relationship with one another**\n",
    "* ==> Graphs are useful for representing a **very wide variety of information**"
   ]
  },
  {
   "cell_type": "markdown",
   "metadata": {
    "slideshow": {
     "slide_type": "slide"
    }
   },
   "source": [
    "#### Exemplification of DAGs by following a cooking recipe"
   ]
  },
  {
   "cell_type": "markdown",
   "metadata": {},
   "source": [
    "<img src=\"./images/Pasta_recipe.png\" />"
   ]
  },
  {
   "cell_type": "markdown",
   "metadata": {
    "slideshow": {
     "slide_type": "slide"
    }
   },
   "source": [
    "### Cooking recipe"
   ]
  },
  {
   "cell_type": "markdown",
   "metadata": {},
   "source": [
    "* Cooking a recipe consists of following a **series of sequential steps**\n",
    "* raw ingredients **are transformed** into intermediate states\n",
    "* all the ingredients are ultimately **combined** into a single complete dish"
   ]
  },
  {
   "cell_type": "markdown",
   "metadata": {},
   "source": [
    "<img src=\"./images/DAG_01.png\" />"
   ]
  },
  {
   "cell_type": "markdown",
   "metadata": {
    "slideshow": {
     "slide_type": "slide"
    }
   },
   "source": [
    "### Essential elements of the DAG"
   ]
  },
  {
   "cell_type": "markdown",
   "metadata": {},
   "source": [
    "* Each *circle* represents a **node** in the graph \n",
    "* A node is a **standalone unit of work** and may represent functions\n",
    "* Each node can take on **dependencies**\n",
    "    * this means that a **prior** step (or steps) **must be complete** before starting the next node’s operation\n",
    "* Dependencies are represented by a *connecting line*\n",
    "* Connecting lines have an *arrow* as endpoints\n",
    "* ==> This implies that there is **only one possible way** to traverse the graph (hence: directed acyclic graph)"
   ]
  },
  {
   "cell_type": "markdown",
   "metadata": {
    "slideshow": {
     "slide_type": "slide"
    }
   },
   "source": [
    "**Transitive dependency**"
   ]
  },
  {
   "cell_type": "markdown",
   "metadata": {
    "slideshow": {
     "slide_type": "-"
    }
   },
   "source": [
    "<img src=\"./images/DAG_02.png\" width=\"700\" />"
   ]
  },
  {
   "cell_type": "markdown",
   "metadata": {
    "slideshow": {
     "slide_type": "slide"
    }
   },
   "source": [
    "### The full recipe represented in a DAG"
   ]
  },
  {
   "cell_type": "markdown",
   "metadata": {},
   "source": [
    "<img src=\"./images/DAG_03.png\" />"
   ]
  },
  {
   "cell_type": "markdown",
   "metadata": {},
   "source": [
    "* One can start with **any of the blue nodes**, since they have **no** dependencies\n",
    "* Following the dependencies, one will reach the **terminal node**\n",
    "* DAGs may be useful to **spot bottlenecks**\n",
    "* ==> potentially **reorder** some nodes to produce **more optimal** or **more time-efficient** process"
   ]
  },
  {
   "cell_type": "markdown",
   "metadata": {
    "slideshow": {
     "slide_type": "slide"
    }
   },
   "source": [
    "## Scaling out, concurrency and recovery"
   ]
  },
  {
   "cell_type": "markdown",
   "metadata": {
    "slideshow": {
     "slide_type": "fragment"
    }
   },
   "source": [
    "* Previous example assumed only **one cook** worked in kitchen\n",
    "* One cook **not enough** for hundreds of guests\n",
    "* Help is needed!"
   ]
  },
  {
   "cell_type": "markdown",
   "metadata": {
    "slideshow": {
     "slide_type": "slide"
    }
   },
   "source": [
    "### Scaling up vs. scaling out in computing"
   ]
  },
  {
   "cell_type": "markdown",
   "metadata": {
    "slideshow": {
     "slide_type": "fragment"
    }
   },
   "source": [
    "**Reasons for scaling up**\n",
    "* Most of the time, upgrading a **cheap**, **low-end** workstation to a **high-end** server may be a better option than buying lots of new hardware and setting up a cluster\n",
    "* This is especially true, if size of problem sits at the **high end** of medium datasets or **low end** of large datasets"
   ]
  },
  {
   "cell_type": "markdown",
   "metadata": {
    "slideshow": {
     "slide_type": "fragment"
    }
   },
   "source": [
    "**Reasons for scaling out**\n",
    "* If problem to be solved allows for **a lot of parallellism**\n",
    "* If data dataset is **large**"
   ]
  },
  {
   "cell_type": "markdown",
   "metadata": {
    "slideshow": {
     "slide_type": "slide"
    }
   },
   "source": [
    "### Task scheduler in Dask"
   ]
  },
  {
   "cell_type": "markdown",
   "metadata": {},
   "source": [
    "Dask is a library for taking advantage of parallellism, i.e. scaling out (many cooks in our kitchen example)\n",
    "\n",
    "The task scheduler\n",
    "* **divides** and **supervises** the work\n",
    "* **constantly evaluates** what work needs to be done\n",
    "* **organises execution of the graph** between workers and **assigning an appropriate number of workers** to each task\n",
    "* aims to **cycle workers** between many tasks in order to **reduce memory load** and **emit finished results quickly**\n",
    "* aims to **minimize** the worker pool’s idle time\n",
    "* **distributes** units of work to **machines** in an efficient manner\n",
    "\n"
   ]
  },
  {
   "cell_type": "markdown",
   "metadata": {
    "slideshow": {
     "slide_type": "slide"
    }
   },
   "source": [
    "### Work distribution in cooking example with 10 workers"
   ]
  },
  {
   "cell_type": "markdown",
   "metadata": {
    "slideshow": {
     "slide_type": "-"
    }
   },
   "source": [
    "<img src=\"./images/DAG_04.png\" />"
   ]
  },
  {
   "cell_type": "markdown",
   "metadata": {
    "slideshow": {
     "slide_type": "slide"
    }
   },
   "source": [
    "### Concurrency and resource management"
   ]
  },
  {
   "cell_type": "markdown",
   "metadata": {},
   "source": [
    "* Often one has to consisder **more constraints** than just the number of workers\n",
    "* Cooking example: number of knifes **is smaller** than number of workers\n",
    "* In **scalable computing**, these are called *issues of concurrency*\n",
    "* Even if the remaining five workers have **completed all other possible nodes**, some steps (nodes) become **delayed** due to *resource starvation*\n",
    "* Cooking example: The other cooks are **forced** to remain **idle** until the onion-dicing step is complete\n",
    "* When a **shared resource** is in use, a *resource lock* is placed on it, meaning other workers **can’t** “steal” the resource until the worker who locked the resource **is finished** using it"
   ]
  },
  {
   "cell_type": "markdown",
   "metadata": {
    "slideshow": {
     "slide_type": "slide"
    }
   },
   "source": [
    "### Task scheduler in scalable computing frameworks"
   ]
  },
  {
   "cell_type": "markdown",
   "metadata": {},
   "source": [
    "If not handled properly, resource contention can be **very detrimental** to performance.\n",
    "\n",
    "* **Decides** how to deal with **resource contention** and **locking**\n",
    "* **Efficient** task scheduling\n",
    "* Normally, **no need** to **hand-tune** schedules\n"
   ]
  },
  {
   "cell_type": "markdown",
   "metadata": {
    "slideshow": {
     "slide_type": "slide"
    }
   },
   "source": [
    "### Issues of concurrency in cooking example with idle workers"
   ]
  },
  {
   "cell_type": "markdown",
   "metadata": {
    "slideshow": {
     "slide_type": "-"
    }
   },
   "source": [
    "<img src=\"./images/resource_starvation.png\" />"
   ]
  },
  {
   "cell_type": "markdown",
   "metadata": {
    "slideshow": {
     "slide_type": "slide"
    }
   },
   "source": [
    "### Recovery from failures"
   ]
  },
  {
   "cell_type": "markdown",
   "metadata": {
    "slideshow": {
     "slide_type": "fragment"
    }
   },
   "source": [
    "* It gets **increasingly difficult** to **orchestrate distribution of processing tasks** as the number of machines in a cluster **increases**\n",
    "* The final result consists of the **aggregate of all the individual operations**\n",
    "* ==> Important to ensure that **all the pieces** find their way to where they need to go\n",
    "* But machines, like people, are **imperfect** and **fail** at times\n",
    "* Two types of failures:\n",
    "    * worker failure **without** data loss\n",
    "    * worker failure **with** data loss"
   ]
  },
  {
   "cell_type": "markdown",
   "metadata": {
    "slideshow": {
     "slide_type": "slide"
    }
   },
   "source": [
    "**Worker failure**"
   ]
  },
  {
   "cell_type": "markdown",
   "metadata": {
    "slideshow": {
     "slide_type": "fragment"
    }
   },
   "source": [
    "**Worker failure without data loss** \n",
    "* A worker fails \n",
    "* Another worker takes over without need to reproduce failed worker's results \n",
    "* ==> Less severe impact on performance\n"
   ]
  },
  {
   "cell_type": "markdown",
   "metadata": {
    "slideshow": {
     "slide_type": "fragment"
    }
   },
   "source": [
    "**Worker failure with data loss** \n",
    "* The dependencies for the particular node are no longer met\n",
    "* Worker need to step all the way back to the first dependency-free node and work your way back from there\n",
    "* ==> Severe impact on performance"
   ]
  },
  {
   "cell_type": "markdown",
   "metadata": {
    "slideshow": {
     "slide_type": "slide"
    }
   },
   "source": [
    "**Worker failure**"
   ]
  },
  {
   "cell_type": "markdown",
   "metadata": {},
   "source": [
    "* At **any point** in the graph, the **complete lineage of operations** up to a given node can be “replayed” in the event of a failure\n",
    "* The task scheduler is ultimately responsible for **stopping work** and **redistributing the work** to be replayed\n",
    "* Because the task scheduler can **dynamically redistribute tasks** away from failed workers, the specific workers that completed the tasks before **don’t** need to be present to **redo** the tasks"
   ]
  },
  {
   "cell_type": "markdown",
   "metadata": {
    "slideshow": {
     "slide_type": "slide"
    }
   },
   "source": [
    "## Companion dataset"
   ]
  },
  {
   "cell_type": "markdown",
   "metadata": {},
   "source": [
    "* Apply your newfound skills to a **real**, **messy** dataset\n",
    "* Gain experience using an **appropriately large** dataset\n",
    "* Data are fetched from [NYC OpenData](https://opendata.cityofnewyork.us)\n",
    "    * [NYC Parking Tickets on Kaggle](https://www.kaggle.com/new-york-city/nyc-parking-tickets)\n",
    "    * Every third week of the month, the New York City Department of Finance records and publishes a data set of all parking citations issued throughout the fiscal year\n",
    "    *  The data are an archive containing four years ofdata from NYC OpenData has been collected and published on the popular machine learning website, Kaggle\n",
    "    * Spans from 2013 through June 2017 and is over 8 GB uncompressed"
   ]
  },
  {
   "cell_type": "markdown",
   "metadata": {
    "slideshow": {
     "slide_type": "-"
    }
   },
   "source": [
    "<img src=\"./images/NYC_open_data.png\" width=500/>"
   ]
  },
  {
   "cell_type": "markdown",
   "metadata": {
    "slideshow": {
     "slide_type": "slide"
    }
   },
   "source": [
    "## Summary"
   ]
  },
  {
   "cell_type": "markdown",
   "metadata": {},
   "source": [
    "* Dask can be used to **scale** popular data analysis libraries such as Pandas and NumPy, allowing you to analyze medium and large datasets with ease.\n",
    "* Dask uses **directed acyclic graphs (DAGs)** to coordinate execution of **parallelized code** across **CPU cores** and **machines**.\n",
    "* Directed acyclic graphs are made up of **nodes** and have a **clearly defined start** and **end**, a **single traversal path**, and **no looping**.\n",
    "* **Upstream nodes** must be completed **before** work can begin on any **dependent downstream nodes**.\n",
    "* **Scaling out** can generally **improve** performance of **complex workloads**, but it creates **additional overhead** that might substantially **reduce** those performance gains.\n",
    "* In the event of a **failure**, the steps to reach a node can be **repeated from the beginning without disturbing the rest of the process**."
   ]
  }
 ],
 "metadata": {
  "celltoolbar": "Slideshow",
  "kernelspec": {
   "display_name": "Python 3",
   "language": "python",
   "name": "python3"
  },
  "language_info": {
   "codemirror_mode": {
    "name": "ipython",
    "version": 3
   },
   "file_extension": ".py",
   "mimetype": "text/x-python",
   "name": "python",
   "nbconvert_exporter": "python",
   "pygments_lexer": "ipython3",
   "version": "3.7.3"
  },
  "varInspector": {
   "cols": {
    "lenName": 16,
    "lenType": 16,
    "lenVar": 40
   },
   "kernels_config": {
    "python": {
     "delete_cmd_postfix": "",
     "delete_cmd_prefix": "del ",
     "library": "var_list.py",
     "varRefreshCmd": "print(var_dic_list())"
    },
    "r": {
     "delete_cmd_postfix": ") ",
     "delete_cmd_prefix": "rm(",
     "library": "var_list.r",
     "varRefreshCmd": "cat(var_dic_list()) "
    }
   },
   "types_to_exclude": [
    "module",
    "function",
    "builtin_function_or_method",
    "instance",
    "_Feature"
   ],
   "window_display": false
  }
 },
 "nbformat": 4,
 "nbformat_minor": 2
}
