{
 "cells": [
  {
   "cell_type": "markdown",
   "metadata": {
    "slideshow": {
     "slide_type": "fragment"
    }
   },
   "source": [
    "# Google Drive connection"
   ]
  },
  {
   "cell_type": "code",
   "execution_count": 1,
   "metadata": {},
   "outputs": [
    {
     "ename": "ModuleNotFoundError",
     "evalue": "No module named 'google'",
     "output_type": "error",
     "traceback": [
      "\u001b[0;31m---------------------------------------------------------------------------\u001b[0m",
      "\u001b[0;31mModuleNotFoundError\u001b[0m                       Traceback (most recent call last)",
      "\u001b[0;32m<ipython-input-1-fc2b4561b498>\u001b[0m in \u001b[0;36m<module>\u001b[0;34m()\u001b[0m\n\u001b[0;32m----> 1\u001b[0;31m \u001b[0;32mfrom\u001b[0m \u001b[0mgoogle\u001b[0m\u001b[0;34m.\u001b[0m\u001b[0mcolab\u001b[0m \u001b[0;32mimport\u001b[0m \u001b[0mdrive\u001b[0m\u001b[0;34m\u001b[0m\u001b[0m\n\u001b[0m\u001b[1;32m      2\u001b[0m \u001b[0mdrive\u001b[0m\u001b[0;34m.\u001b[0m\u001b[0mmount\u001b[0m\u001b[0;34m(\u001b[0m\u001b[0;34m'/content/drive'\u001b[0m\u001b[0;34m)\u001b[0m\u001b[0;34m\u001b[0m\u001b[0m\n",
      "\u001b[0;31mModuleNotFoundError\u001b[0m: No module named 'google'"
     ]
    }
   ],
   "source": [
    "from google.colab import drive\n",
    "drive.mount('/content/drive')"
   ]
  },
  {
   "cell_type": "markdown",
   "metadata": {},
   "source": [
    "### Complete Linux sandbox"
   ]
  },
  {
   "cell_type": "code",
   "execution_count": null,
   "metadata": {
    "collapsed": true
   },
   "outputs": [],
   "source": [
    "# Current directory\n",
    "!pwd\n",
    "# List contents\n",
    "!ls\n",
    "# Root\n",
    "!ls /\n",
    "# Home\n",
    "!ls ~/\n",
    "# Copy: cp, make directory: mkdir, ..."
   ]
  },
  {
   "cell_type": "markdown",
   "metadata": {},
   "source": [
    "### Ready with Python, Tensorflow, Keras, ..."
   ]
  },
  {
   "cell_type": "code",
   "execution_count": null,
   "metadata": {
    "collapsed": true
   },
   "outputs": [],
   "source": [
    "!python --version\n",
    "# import <tab>"
   ]
  },
  {
   "cell_type": "markdown",
   "metadata": {
    "colab_type": "text",
    "id": "OGTFJpFuXijb"
   },
   "source": [
    "# Kaggle API\n",
    "### After downloading key from kaggle.com (My Account -> Create new API token) to Google Drive:\n",
    "Access Google Drive, copy kaggle.json to Colab and report progress.  \n",
    "Authentication of Google account is part of the process (once every session)."
   ]
  },
  {
   "cell_type": "code",
   "execution_count": null,
   "metadata": {
    "colab": {
     "base_uri": "https://localhost:8080/",
     "height": 34
    },
    "colab_type": "code",
    "collapsed": true,
    "executionInfo": {
     "elapsed": 38268,
     "status": "ok",
     "timestamp": 1539967204162,
     "user": {
      "displayName": "Kristian Hovde Liland",
      "photoUrl": "",
      "userId": "17029564817631307256"
     },
     "user_tz": -120
    },
    "id": "hsrzPdK8lgWy",
    "outputId": "e458913d-8d28-4d23-f18c-b3a6dc6ba4ea"
   },
   "outputs": [],
   "source": [
    "from googleapiclient.discovery import build\n",
    "import io, os\n",
    "from googleapiclient.http import MediaIoBaseDownload\n",
    "from google.colab import auth\n",
    "auth.authenticate_user()\n",
    "drive_service = build('drive', 'v3')\n",
    "results = drive_service.files().list(\n",
    "        q=\"name = 'kaggle.json'\", fields=\"files(id)\").execute()\n",
    "kaggle_api_key = results.get('files', [])\n",
    "filename = \"/.kaggle/kaggle.json\"\n",
    "os.makedirs(os.path.dirname(filename), exist_ok=True)\n",
    "request = drive_service.files().get_media(fileId=kaggle_api_key[0]['id'])\n",
    "fh = io.FileIO(filename, 'wb')\n",
    "downloader = MediaIoBaseDownload(fh, request)\n",
    "done = False\n",
    "while done is False:\n",
    "    status, done = downloader.next_chunk()\n",
    "    print(\"Download %d%%.\" % int(status.progress() * 100))\n",
    "os.chmod(filename, 600)"
   ]
  },
  {
   "cell_type": "code",
   "execution_count": null,
   "metadata": {
    "colab": {},
    "colab_type": "code",
    "collapsed": true,
    "id": "LT8DgU0URsD2"
   },
   "outputs": [],
   "source": [
    "# Check existence of file\n",
    "!ls /.kaggle\n",
    "!cat /.kaggle/kaggle.json"
   ]
  },
  {
   "cell_type": "code",
   "execution_count": null,
   "metadata": {
    "colab": {},
    "colab_type": "code",
    "collapsed": true,
    "id": "HBR8u5Bd5td0"
   },
   "outputs": [],
   "source": [
    "# Notice the difference in path names with/without ~\n",
    "!mkdir -p ~/.kaggle\n",
    "!cp /.kaggle/kaggle.json ~/.kaggle/"
   ]
  },
  {
   "cell_type": "code",
   "execution_count": null,
   "metadata": {
    "colab": {
     "base_uri": "https://localhost:8080/",
     "height": 440
    },
    "colab_type": "code",
    "collapsed": true,
    "executionInfo": {
     "elapsed": 5771,
     "status": "ok",
     "timestamp": 1539967225401,
     "user": {
      "displayName": "Kristian Hovde Liland",
      "photoUrl": "",
      "userId": "17029564817631307256"
     },
     "user_tz": -120
    },
    "id": "TUCym-uoP9tG",
    "outputId": "3f54e666-56c3-45ee-ceea-7139d52268d6"
   },
   "outputs": [],
   "source": [
    "# Install Python part of kaggle\n",
    "!pip install kaggle"
   ]
  },
  {
   "cell_type": "markdown",
   "metadata": {
    "colab_type": "text",
    "id": "GRVNQlw6n3Jo"
   },
   "source": [
    "### Check if connection is succesfull"
   ]
  },
  {
   "cell_type": "code",
   "execution_count": null,
   "metadata": {
    "colab": {
     "base_uri": "https://localhost:8080/",
     "height": 406
    },
    "colab_type": "code",
    "collapsed": true,
    "executionInfo": {
     "elapsed": 3418,
     "status": "ok",
     "timestamp": 1539967231871,
     "user": {
      "displayName": "Kristian Hovde Liland",
      "photoUrl": "",
      "userId": "17029564817631307256"
     },
     "user_tz": -120
    },
    "id": "GsNuGCHTn2Q3",
    "outputId": "4686d47f-c881-4ae4-b4d9-776b2da165cb"
   },
   "outputs": [],
   "source": [
    "# As of Tuesday after lunch, it seems that the Kaggle API is offline. We hope it will be back soon.\n",
    "!kaggle competitions list"
   ]
  },
  {
   "cell_type": "markdown",
   "metadata": {
    "colab_type": "text",
    "id": "pKDQL0qfoMrf"
   },
   "source": [
    "### Download MNIST-like fashion data from Zalando Research"
   ]
  },
  {
   "cell_type": "code",
   "execution_count": null,
   "metadata": {
    "colab": {},
    "colab_type": "code",
    "collapsed": true,
    "id": "BDfYj2Cil4md"
   },
   "outputs": [],
   "source": [
    "!kaggle datasets download -d zalando-research/fashionmnist -p /content/kaggle"
   ]
  },
  {
   "cell_type": "markdown",
   "metadata": {
    "colab_type": "text",
    "id": "athbk7qNoZMy"
   },
   "source": [
    "See what you got"
   ]
  },
  {
   "cell_type": "code",
   "execution_count": null,
   "metadata": {
    "colab": {},
    "colab_type": "code",
    "collapsed": true,
    "id": "mVzI-YyPnLtK"
   },
   "outputs": [],
   "source": [
    "!ls /content/kaggle"
   ]
  },
  {
   "cell_type": "markdown",
   "metadata": {
    "colab_type": "text",
    "id": "86zAAjlYo1GA"
   },
   "source": [
    "Oooh. A zip file. Let's unzip it."
   ]
  },
  {
   "cell_type": "code",
   "execution_count": null,
   "metadata": {
    "colab": {},
    "colab_type": "code",
    "collapsed": true,
    "id": "LfQnUhn9o7Ur"
   },
   "outputs": [],
   "source": [
    "!unzip /content/kaggle/*.zip -d /content/kaggle/\n",
    "!ls /content/kaggle/"
   ]
  },
  {
   "cell_type": "markdown",
   "metadata": {
    "colab_type": "text",
    "id": "V4XqraajtNrT"
   },
   "source": [
    "Go mad using Python"
   ]
  },
  {
   "cell_type": "markdown",
   "metadata": {
    "colab_type": "text",
    "id": "AHhMBu9S8II8"
   },
   "source": [
    "# OpenML"
   ]
  },
  {
   "cell_type": "code",
   "execution_count": null,
   "metadata": {
    "colab": {},
    "colab_type": "code",
    "collapsed": true,
    "id": "qeBl2hcs8LiK"
   },
   "outputs": [],
   "source": [
    "# Install package\n",
    "!pip install git+https://github.com/openml/openml-python.git@develop"
   ]
  },
  {
   "cell_type": "markdown",
   "metadata": {
    "colab_type": "text",
    "id": "aDNU1aHz_mTU"
   },
   "source": [
    "### Copy API key from Google Drive to Colab\n",
    "Requires that you have first logged into OpenML and saved your API key as 'apikey=MYKEY' in a file named 'config' directly to your Drive."
   ]
  },
  {
   "cell_type": "code",
   "execution_count": null,
   "metadata": {
    "colab": {},
    "colab_type": "code",
    "collapsed": true,
    "id": "njXOXosV-QzV"
   },
   "outputs": [],
   "source": [
    "# Copy API key\n",
    "from googleapiclient.discovery import build\n",
    "import io, os\n",
    "from googleapiclient.http import MediaIoBaseDownload\n",
    "from google.colab import auth\n",
    "auth.authenticate_user()\n",
    "drive_service = build('drive', 'v3')\n",
    "results = drive_service.files().list(\n",
    "        q=\"name = 'config'\", fields=\"files(id)\").execute()\n",
    "config_api_key = results.get('files', [])\n",
    "filename = \"/.openml/config\"\n",
    "os.makedirs(os.path.dirname(filename), exist_ok=True)\n",
    "request = drive_service.files().get_media(fileId=config_api_key[0]['id'])\n",
    "fh = io.FileIO(filename, 'wb')\n",
    "downloader = MediaIoBaseDownload(fh, request)\n",
    "done = False\n",
    "while done is False:\n",
    "    status, done = downloader.next_chunk()\n",
    "    print(\"Download %d%%.\" % int(status.progress() * 100))\n",
    "os.chmod(filename, 600)"
   ]
  },
  {
   "cell_type": "code",
   "execution_count": null,
   "metadata": {
    "colab": {},
    "colab_type": "code",
    "collapsed": true,
    "id": "aathjfCN7KgN"
   },
   "outputs": [],
   "source": [
    "# This should show 'config' as the output\n",
    "!ls /.openml"
   ]
  },
  {
   "cell_type": "markdown",
   "metadata": {
    "colab_type": "text",
    "id": "Z6-vyJno_YqO"
   },
   "source": [
    "### Test OpenML connection by listing some data sets"
   ]
  },
  {
   "cell_type": "code",
   "execution_count": null,
   "metadata": {
    "colab": {},
    "colab_type": "code",
    "collapsed": true,
    "id": "L0Y7lcXO-m7C"
   },
   "outputs": [],
   "source": [
    "import openml as oml\n",
    "openml_list = oml.datasets.list_datasets() # Returns a dict\n",
    "\n",
    "# Show a nice table with some key data properties\n",
    "import pandas as pd\n",
    "datalist = pd.DataFrame.from_dict(openml_list, orient='index') \n",
    "datalist = datalist[[\n",
    "    'did','name','NumberOfInstances',\n",
    "    'NumberOfFeatures','NumberOfClasses'\n",
    "]]\n",
    "print(\"First 10 of %s datasets...\" % len(datalist))\n",
    "datalist.head(n=10)"
   ]
  }
 ],
 "metadata": {
  "accelerator": "GPU",
  "colab": {
   "collapsed_sections": [],
   "name": "System stuff.ipynb",
   "provenance": [],
   "toc_visible": true,
   "version": "0.3.2"
  },
  "kernelspec": {
   "display_name": "Python 3",
   "language": "python",
   "name": "python3"
  },
  "language_info": {
   "codemirror_mode": {
    "name": "ipython",
    "version": 3
   },
   "file_extension": ".py",
   "mimetype": "text/x-python",
   "name": "python",
   "nbconvert_exporter": "python",
   "pygments_lexer": "ipython3",
   "version": "3.5.2"
  }
 },
 "nbformat": 4,
 "nbformat_minor": 1
}
