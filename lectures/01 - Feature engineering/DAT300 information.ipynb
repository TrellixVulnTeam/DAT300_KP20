{
 "cells": [
  {
   "cell_type": "markdown",
   "metadata": {
    "slideshow": {
     "slide_type": "slide"
    }
   },
   "source": [
    "# DAT300"
   ]
  },
  {
   "cell_type": "markdown",
   "metadata": {
    "slideshow": {
     "slide_type": "-"
    }
   },
   "source": [
    "<center><img src=\"./images/DAT300_H2019.jpg\" alt=\"DAT300\" style=\"width: 736px;\"/></center>"
   ]
  },
  {
   "cell_type": "markdown",
   "metadata": {
    "slideshow": {
     "slide_type": "-"
    }
   },
   "source": [
    "- We are being watched (recorded)"
   ]
  },
  {
   "cell_type": "markdown",
   "metadata": {
    "slideshow": {
     "slide_type": "slide"
    }
   },
   "source": [
    "# Plan for September 5th\n",
    "- Master project teaser by Jon Nordby\n",
    "- Introduction to:\n",
    "  - People involved\n",
    "  - Resources and tools\n",
    "  - Book(s)\n",
    "  - Lesson plan\n",
    "- Introduction and hands on with Google Colab' and Kaggle API\n",
    "- Feature enineering"
   ]
  },
  {
   "cell_type": "markdown",
   "metadata": {
    "slideshow": {
     "slide_type": "slide"
    }
   },
   "source": [
    "# The men\n",
    "\n",
    "| Oliver Tomic | Kristian Hovde Liland |  \n",
    "|:-------------------------|----------:|  \n",
    "| <img src=\"./images/Oliver.jpg\" alt=\"Oliver\" style=\"height: 250px;\"/> | <img src=\"./images/Kristian.jpg\" alt=\"Kristian\" style=\"height: 220px;\"/>    |  \n",
    "    \n",
    "Associate Professors in Data Science."
   ]
  },
  {
   "cell_type": "markdown",
   "metadata": {
    "slideshow": {
     "slide_type": "slide"
    }
   },
   "source": [
    "# The boys\n",
    "| Runar Helin              | Stanislau \"Stas\" Trukhan  |Mike Riess |  \n",
    "|:-------------------------|:-------------------------:|----------:|  \n",
    "| <img src=\"./images/runar.jpeg\" alt=\"Runar\" style=\"height: 250px;\"/> | <img src=\"./images/stas.png\" alt=\"Stas\" style=\"height: 250px;\"/>    | <img src=\"./images/mike.png\" alt=\"Mike\" style=\"height: 250px;\"/>    |  \n",
    "    \n",
    "PhD students applying/developing machine- and deep learning methods."
   ]
  },
  {
   "cell_type": "markdown",
   "metadata": {
    "slideshow": {
     "slide_type": "slide"
    }
   },
   "source": [
    "## The resources\n",
    "- Canvas: https://nmbu.instructure.com/courses/4151  \n",
    "  - Information hub\n",
    "  - Compulsory assignments\n",
    "- GitLab: https://gitlab.com/nmbu.no/emner/DAT300/h2019  \n",
    "  - Git source for lectures and exercises (please register)  \n",
    "- Google Colaboratory: https://colab.research.google.com  \n",
    "  - Online processing (please register)\n",
    "- Kaggle: https://www.kaggle.com/\n",
    "  - Compulsory assignments, competitions and solutions (please register)"
   ]
  },
  {
   "cell_type": "markdown",
   "metadata": {
    "slideshow": {
     "slide_type": "slide"
    }
   },
   "source": [
    "## The tools\n",
    "- Python 3.7: https://www.anaconda.com/\n",
    "- Keras: https://keras.io/\n",
    "  - Deep learning interface to Tensorflow et al.\n",
    "- DASK: https://dask.org/\n",
    "  - Out-of-core machine learning\n",
    "- Jupytext: https://towardsdatascience.com/introducing-jupytext-9234fdff6c57\n",
    "  - Jupyter Notebook extension for dual editing - Python code and Jupyter Notebook\n",
    "- RISE slideshow: https://github.com/damianavila/RISE\n",
    "  - Jupyter Notebook extension for presentation mode!\n"
   ]
  },
  {
   "cell_type": "markdown",
   "metadata": {
    "slideshow": {
     "slide_type": "slide"
    }
   },
   "source": [
    "## The book\n",
    "<img src=\"./images/TheBook.jpg\" alt=\"Python Machine Learning\" style=\"width: 200px;\"/>  \n",
    "- Python Machine Learning, 2nd edition, By Raschka & Mirjalili  \n",
    "    - Available in Boksmia\n",
    "    - .. or https://www.akademika.no/python-machine-learning/raschka-sebastian/mirjalili-vahid/9781787125933\n",
    "    - .. or https://www.packtpub.com/big-data-and-business-intelligence/python-machine-learning-second-edition (also 3rd edition)\n",
    "- Material from Deep learning with Python, By Chollet: https://www.manning.com/books/deep-learning-with-python"
   ]
  },
  {
   "cell_type": "markdown",
   "metadata": {
    "slideshow": {
     "slide_type": "slide"
    }
   },
   "source": [
    "<center><img src=\"./images/Timetable.png\" alt=\"Time table\" style=\"width: 1400px;\"/> </center>"
   ]
  },
  {
   "cell_type": "markdown",
   "metadata": {
    "slideshow": {
     "slide_type": "slide"
    }
   },
   "source": [
    "<center><img src=\"./images/TentativePlan_2019.png\" alt=\"Tentative plan\" style=\"width: 1032px;\"/></center>"
   ]
  },
  {
   "cell_type": "markdown",
   "metadata": {
    "slideshow": {
     "slide_type": "slide"
    }
   },
   "source": [
    "## Expected student background\n",
    "### Programming (e.g. INF120 + INF200), Statistics (e.g. MATH-INF110/STAT100), Linear algebra (e.g. MATH113/MATH131)\n",
    "### Machine Learning (e.g. DAT200)\n",
    "Python Machine Learning, Sebastian Raschka and Vahid Mirjalili, Packt Publishing\n",
    "- Chapter 1 – Giving Computers the Ability to Lear from Data \n",
    "- Chapter 2 – Training Simple Machine Learning Algorithms for Classification\n",
    "- Chapter 3 – A Tour of Machine Learning Classifiers\n",
    "- Chapter 4 – Building Good Training Sets – Data Processing\n",
    "- Chapter 5 – Compressing Data via Dimensionality Reduction\n",
    "- Chapter 6 – Learning Best Practices for Model Evaluation and Hyperparamter Tuning \n",
    "- Chapter 7 – Combining Different Models for Ensemble Learning\n",
    "- Chapter 10 – Predicting Continous Target Variables with Regression Analysis\n",
    "- Chapter 11 – Working with unlabelled data – Clustering Analysis"
   ]
  },
  {
   "cell_type": "markdown",
   "metadata": {
    "slideshow": {
     "slide_type": "slide"
    }
   },
   "source": [
    "<center><img src=\"./images/MarkZuckerberg.jpg\" alt=\"Ethics\" style=\"width: 650px;\"/></center>"
   ]
  }
 ],
 "metadata": {
  "celltoolbar": "Slideshow",
  "jupytext": {
   "encoding": "# -*- coding: utf-8 -*-",
   "formats": "ipynb,py"
  },
  "kernelspec": {
   "display_name": "Python 3",
   "language": "python",
   "name": "python3"
  },
  "language_info": {
   "codemirror_mode": {
    "name": "ipython",
    "version": 3
   },
   "file_extension": ".py",
   "mimetype": "text/x-python",
   "name": "python",
   "nbconvert_exporter": "python",
   "pygments_lexer": "ipython3",
   "version": "3.6.3"
  }
 },
 "nbformat": 4,
 "nbformat_minor": 2
}
