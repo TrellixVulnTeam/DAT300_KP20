{
 "cells": [
  {
   "cell_type": "markdown",
   "metadata": {
    "slideshow": {
     "slide_type": "slide"
    }
   },
   "source": [
    "# Google Colaboratory\n",
    "### Free$^+$ Jupyter notebook$^*$ with cloud computation and Google Drive integration$\\dagger$\n",
    "<img src=\"./images/CO.png\" alt=\"CO\"/>  \n",
    "### https://colab.research.google.com  \n",
    "\n",
    "$^+$ Up to around 12 hours continuous computations a day. Fresh session, start from scratch.  \n",
    "\\* Mostly the same, some extensions, some limitations.  \n",
    "$\\dagger$ Requires setup, not extremely quick. Faster interaction with Google Cloud Storage."
   ]
  },
  {
   "cell_type": "markdown",
   "metadata": {
    "slideshow": {
     "slide_type": "slide"
    }
   },
   "source": [
    "# Why \"Colab\"?\n",
    "\n",
    "- Nice interface\n",
    "- Easy to install and run Linux and Python packages\n",
    "- Has load of stuff already installed\n",
    "    - For instance XGBoost, TensorFlow, Keras, ...\n",
    "- Move workload off your computer\n",
    "    - Ageing laptop?\n",
    "    - Long running computations?\n",
    "- GPU support: Tesla K80 (~2.5 TFLOPS DP vs KHL's laptop at ~8 GFLOPS DP)\n",
    "<img src=\"./images/K80.jpg\" alt=\"K80\"/>\n",
    "    - New GPUs anounced, but limited access"
   ]
  },
  {
   "cell_type": "markdown",
   "metadata": {
    "slideshow": {
     "slide_type": "slide"
    }
   },
   "source": [
    "# Data files on Colab\n",
    "- Upload files from desktop or Google Drive\n",
    "- Direct file access on Google Drive is slow for large files\n",
    "    - Network connection to different servers\n",
    "    - Various ways of uploading files in API\n",
    "<img src=\"./images/Drive.png\" alt=\"Google Drive\" style=\"width: 300px;\"/>"
   ]
  },
  {
   "cell_type": "markdown",
   "metadata": {
    "slideshow": {
     "slide_type": "slide"
    }
   },
   "source": [
    "# Kaggle integration\n",
    "- Datasets download\n",
    "- Competition submission\n",
    "- https://github.com/Kaggle/kaggle-api\n",
    "- https://medium.com/@move37timm/using-kaggle-api-for-google-colaboratory-d18645f93648\n",
    "- DAT300's 'System stuff.ipynb'"
   ]
  },
  {
   "cell_type": "markdown",
   "metadata": {
    "slideshow": {
     "slide_type": "slide"
    }
   },
   "source": [
    "# Seedbank\n",
    "- Community examples of Machine Learning with Colab\n",
    "- https://tools.google.com/seedbank/\n",
    "<img src=\"./images/seedbank.png\" alt=\"Google Seedbank\" style=\"width: 150px;\"/>"
   ]
  },
  {
   "cell_type": "markdown",
   "metadata": {
    "slideshow": {
     "slide_type": "slide"
    }
   },
   "source": [
    "# OpenML\n",
    "- \\> 20 000 data sets\n",
    "- Workflows / data analysis flows\n",
    "- Comparison of ML methods on data sets, e.g. check expected performance\n",
    "- Download, analyse, upload for free\n",
    "<img src=\"./images/OpenML.png\" alt=\"OpenML\"/>"
   ]
  }
 ],
 "metadata": {
  "anaconda-cloud": {},
  "celltoolbar": "Slideshow",
  "jupytext": {
   "formats": "ipynb,py"
  },
  "kernelspec": {
   "display_name": "Python 3",
   "language": "python",
   "name": "python3"
  },
  "language_info": {
   "codemirror_mode": {
    "name": "ipython",
    "version": 3
   },
   "file_extension": ".py",
   "mimetype": "text/x-python",
   "name": "python",
   "nbconvert_exporter": "python",
   "pygments_lexer": "ipython3",
   "version": "3.5.2"
  },
  "varInspector": {
   "cols": {
    "lenName": 16,
    "lenType": 16,
    "lenVar": 40
   },
   "kernels_config": {
    "python": {
     "delete_cmd_postfix": "",
     "delete_cmd_prefix": "del ",
     "library": "var_list.py",
     "varRefreshCmd": "print(var_dic_list())"
    },
    "r": {
     "delete_cmd_postfix": ") ",
     "delete_cmd_prefix": "rm(",
     "library": "var_list.r",
     "varRefreshCmd": "cat(var_dic_list()) "
    }
   },
   "types_to_exclude": [
    "module",
    "function",
    "builtin_function_or_method",
    "instance",
    "_Feature"
   ],
   "window_display": false
  }
 },
 "nbformat": 4,
 "nbformat_minor": 2
}
