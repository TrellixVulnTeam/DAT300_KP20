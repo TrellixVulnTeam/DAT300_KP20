{
 "cells": [
  {
   "cell_type": "markdown",
   "metadata": {
    "colab_type": "text",
    "id": "YiCXnLj6GOKY"
   },
   "source": [
    "# Anomaly Detection to detect hacking attempts\n",
    "## Runar Helin"
   ]
  },
  {
   "cell_type": "code",
   "execution_count": 1,
   "metadata": {
    "colab": {},
    "colab_type": "code",
    "id": "fyoYUiMiGNpg"
   },
   "outputs": [],
   "source": [
    "import itertools\n",
    "\n",
    "import numpy  as np\n",
    "import pandas as pd\n",
    " \n",
    "import matplotlib.pyplot as plt\n",
    "\n",
    "\n",
    "from sklearn.preprocessing import StandardScaler\n",
    "from sklearn.model_selection import train_test_split\n",
    "from sklearn import metrics\n",
    "from sklearn.ensemble import IsolationForest"
   ]
  },
  {
   "cell_type": "markdown",
   "metadata": {
    "colab_type": "text",
    "id": "JqcmdUJkGlYw"
   },
   "source": [
    "## Let us prepare the dataset for analysis\n",
    "The dataset we will use is the hacking dataset from the KDD1999 competition. Each row corresponds to one connection and metadata of that connection (such as what kind of connection it was). Two classes are removed, namely the class for the SMURF attack and Neptune attack, which are so-called distributed denial of service attacks (DDoS). These attacks work by spamming connections"
   ]
  },
  {
   "cell_type": "code",
   "execution_count": 2,
   "metadata": {
    "colab": {},
    "colab_type": "code",
    "id": "ZcxJ4FP1yC-l"
   },
   "outputs": [],
   "source": [
    "data = pd.read_csv('data/kdd1999_without_smurf_and_neptune.csv', index_col=0)"
   ]
  },
  {
   "cell_type": "code",
   "execution_count": 14,
   "metadata": {},
   "outputs": [
    {
     "data": {
      "text/plain": [
       "(383258, 42)"
      ]
     },
     "execution_count": 14,
     "metadata": {},
     "output_type": "execute_result"
    }
   ],
   "source": [
    "data.shape"
   ]
  },
  {
   "cell_type": "code",
   "execution_count": 3,
   "metadata": {
    "colab": {
     "base_uri": "https://localhost:8080/",
     "height": 273
    },
    "colab_type": "code",
    "id": "nzlLa494xo7o",
    "outputId": "a2e6c75a-5678-492b-bf98-7706205c2dc8"
   },
   "outputs": [
    {
     "data": {
      "text/html": [
       "<div>\n",
       "<style scoped>\n",
       "    .dataframe tbody tr th:only-of-type {\n",
       "        vertical-align: middle;\n",
       "    }\n",
       "\n",
       "    .dataframe tbody tr th {\n",
       "        vertical-align: top;\n",
       "    }\n",
       "\n",
       "    .dataframe thead th {\n",
       "        text-align: right;\n",
       "    }\n",
       "</style>\n",
       "<table border=\"1\" class=\"dataframe\">\n",
       "  <thead>\n",
       "    <tr style=\"text-align: right;\">\n",
       "      <th></th>\n",
       "      <th>duration: continuous</th>\n",
       "      <th>protocol_type: symbolic</th>\n",
       "      <th>service: symbolic</th>\n",
       "      <th>flag: symbolic</th>\n",
       "      <th>src_bytes: continuous</th>\n",
       "      <th>dst_bytes: continuous</th>\n",
       "      <th>land: symbolic</th>\n",
       "      <th>wrong_fragment: continuous</th>\n",
       "      <th>urgent: continuous</th>\n",
       "      <th>hot: continuous</th>\n",
       "      <th>...</th>\n",
       "      <th>dst_host_srv_count: continuous</th>\n",
       "      <th>dst_host_same_srv_rate: continuous</th>\n",
       "      <th>dst_host_diff_srv_rate: continuous</th>\n",
       "      <th>dst_host_same_src_port_rate: continuous</th>\n",
       "      <th>dst_host_srv_diff_host_rate: continuous</th>\n",
       "      <th>dst_host_serror_rate: continuous</th>\n",
       "      <th>dst_host_srv_serror_rate: continuous</th>\n",
       "      <th>dst_host_rerror_rate: continuous</th>\n",
       "      <th>dst_host_srv_rerror_rate: continuous</th>\n",
       "      <th>connection_type</th>\n",
       "    </tr>\n",
       "  </thead>\n",
       "  <tbody>\n",
       "    <tr>\n",
       "      <td>0</td>\n",
       "      <td>0</td>\n",
       "      <td>tcp</td>\n",
       "      <td>http</td>\n",
       "      <td>SF</td>\n",
       "      <td>215</td>\n",
       "      <td>45076</td>\n",
       "      <td>0</td>\n",
       "      <td>0</td>\n",
       "      <td>0</td>\n",
       "      <td>0</td>\n",
       "      <td>...</td>\n",
       "      <td>0</td>\n",
       "      <td>0.0</td>\n",
       "      <td>0.0</td>\n",
       "      <td>0.00</td>\n",
       "      <td>0.0</td>\n",
       "      <td>0.0</td>\n",
       "      <td>0.0</td>\n",
       "      <td>0.0</td>\n",
       "      <td>0.0</td>\n",
       "      <td>normal.</td>\n",
       "    </tr>\n",
       "    <tr>\n",
       "      <td>1</td>\n",
       "      <td>0</td>\n",
       "      <td>tcp</td>\n",
       "      <td>http</td>\n",
       "      <td>SF</td>\n",
       "      <td>162</td>\n",
       "      <td>4528</td>\n",
       "      <td>0</td>\n",
       "      <td>0</td>\n",
       "      <td>0</td>\n",
       "      <td>0</td>\n",
       "      <td>...</td>\n",
       "      <td>1</td>\n",
       "      <td>1.0</td>\n",
       "      <td>0.0</td>\n",
       "      <td>1.00</td>\n",
       "      <td>0.0</td>\n",
       "      <td>0.0</td>\n",
       "      <td>0.0</td>\n",
       "      <td>0.0</td>\n",
       "      <td>0.0</td>\n",
       "      <td>normal.</td>\n",
       "    </tr>\n",
       "    <tr>\n",
       "      <td>2</td>\n",
       "      <td>0</td>\n",
       "      <td>tcp</td>\n",
       "      <td>http</td>\n",
       "      <td>SF</td>\n",
       "      <td>236</td>\n",
       "      <td>1228</td>\n",
       "      <td>0</td>\n",
       "      <td>0</td>\n",
       "      <td>0</td>\n",
       "      <td>0</td>\n",
       "      <td>...</td>\n",
       "      <td>2</td>\n",
       "      <td>1.0</td>\n",
       "      <td>0.0</td>\n",
       "      <td>0.50</td>\n",
       "      <td>0.0</td>\n",
       "      <td>0.0</td>\n",
       "      <td>0.0</td>\n",
       "      <td>0.0</td>\n",
       "      <td>0.0</td>\n",
       "      <td>normal.</td>\n",
       "    </tr>\n",
       "    <tr>\n",
       "      <td>3</td>\n",
       "      <td>0</td>\n",
       "      <td>tcp</td>\n",
       "      <td>http</td>\n",
       "      <td>SF</td>\n",
       "      <td>239</td>\n",
       "      <td>486</td>\n",
       "      <td>0</td>\n",
       "      <td>0</td>\n",
       "      <td>0</td>\n",
       "      <td>0</td>\n",
       "      <td>...</td>\n",
       "      <td>4</td>\n",
       "      <td>1.0</td>\n",
       "      <td>0.0</td>\n",
       "      <td>0.25</td>\n",
       "      <td>0.0</td>\n",
       "      <td>0.0</td>\n",
       "      <td>0.0</td>\n",
       "      <td>0.0</td>\n",
       "      <td>0.0</td>\n",
       "      <td>normal.</td>\n",
       "    </tr>\n",
       "    <tr>\n",
       "      <td>4</td>\n",
       "      <td>0</td>\n",
       "      <td>tcp</td>\n",
       "      <td>http</td>\n",
       "      <td>SF</td>\n",
       "      <td>234</td>\n",
       "      <td>1364</td>\n",
       "      <td>0</td>\n",
       "      <td>0</td>\n",
       "      <td>0</td>\n",
       "      <td>0</td>\n",
       "      <td>...</td>\n",
       "      <td>7</td>\n",
       "      <td>1.0</td>\n",
       "      <td>0.0</td>\n",
       "      <td>0.14</td>\n",
       "      <td>0.0</td>\n",
       "      <td>0.0</td>\n",
       "      <td>0.0</td>\n",
       "      <td>0.0</td>\n",
       "      <td>0.0</td>\n",
       "      <td>normal.</td>\n",
       "    </tr>\n",
       "  </tbody>\n",
       "</table>\n",
       "<p>5 rows × 42 columns</p>\n",
       "</div>"
      ],
      "text/plain": [
       "   duration: continuous protocol_type: symbolic service: symbolic  \\\n",
       "0                     0                     tcp              http   \n",
       "1                     0                     tcp              http   \n",
       "2                     0                     tcp              http   \n",
       "3                     0                     tcp              http   \n",
       "4                     0                     tcp              http   \n",
       "\n",
       "  flag: symbolic  src_bytes: continuous  dst_bytes: continuous  \\\n",
       "0             SF                    215                  45076   \n",
       "1             SF                    162                   4528   \n",
       "2             SF                    236                   1228   \n",
       "3             SF                    239                    486   \n",
       "4             SF                    234                   1364   \n",
       "\n",
       "   land: symbolic  wrong_fragment: continuous  urgent: continuous  \\\n",
       "0               0                           0                   0   \n",
       "1               0                           0                   0   \n",
       "2               0                           0                   0   \n",
       "3               0                           0                   0   \n",
       "4               0                           0                   0   \n",
       "\n",
       "   hot: continuous  ...  dst_host_srv_count: continuous  \\\n",
       "0                0  ...                               0   \n",
       "1                0  ...                               1   \n",
       "2                0  ...                               2   \n",
       "3                0  ...                               4   \n",
       "4                0  ...                               7   \n",
       "\n",
       "   dst_host_same_srv_rate: continuous  dst_host_diff_srv_rate: continuous  \\\n",
       "0                                 0.0                                 0.0   \n",
       "1                                 1.0                                 0.0   \n",
       "2                                 1.0                                 0.0   \n",
       "3                                 1.0                                 0.0   \n",
       "4                                 1.0                                 0.0   \n",
       "\n",
       "   dst_host_same_src_port_rate: continuous  \\\n",
       "0                                     0.00   \n",
       "1                                     1.00   \n",
       "2                                     0.50   \n",
       "3                                     0.25   \n",
       "4                                     0.14   \n",
       "\n",
       "   dst_host_srv_diff_host_rate: continuous  dst_host_serror_rate: continuous  \\\n",
       "0                                      0.0                               0.0   \n",
       "1                                      0.0                               0.0   \n",
       "2                                      0.0                               0.0   \n",
       "3                                      0.0                               0.0   \n",
       "4                                      0.0                               0.0   \n",
       "\n",
       "   dst_host_srv_serror_rate: continuous  dst_host_rerror_rate: continuous  \\\n",
       "0                                   0.0                               0.0   \n",
       "1                                   0.0                               0.0   \n",
       "2                                   0.0                               0.0   \n",
       "3                                   0.0                               0.0   \n",
       "4                                   0.0                               0.0   \n",
       "\n",
       "   dst_host_srv_rerror_rate: continuous  connection_type  \n",
       "0                                   0.0          normal.  \n",
       "1                                   0.0          normal.  \n",
       "2                                   0.0          normal.  \n",
       "3                                   0.0          normal.  \n",
       "4                                   0.0          normal.  \n",
       "\n",
       "[5 rows x 42 columns]"
      ]
     },
     "execution_count": 3,
     "metadata": {},
     "output_type": "execute_result"
    }
   ],
   "source": [
    "data.head()"
   ]
  },
  {
   "cell_type": "code",
   "execution_count": 4,
   "metadata": {
    "colab": {
     "base_uri": "https://localhost:8080/",
     "height": 141
    },
    "colab_type": "code",
    "id": "NnXP-ypZ095d",
    "outputId": "70209624-f3ec-4269-e9e4-61a479389ef2"
   },
   "outputs": [],
   "source": [
    "X, y = data.drop(['connection_type'], axis=1), data['connection_type']\n",
    "X = pd.get_dummies(X)\n",
    "\n",
    "y = (y=='normal.').astype(int)    # Normal connections will be class 1, attacks will be class 0\n",
    "y = 2*y - 1                       # Sklearn anomaly detection algorithms return -1 for outliers and 1 for inliers\n",
    "\n",
    "train_X, test_X, train_y, test_y = train_test_split(X, y, test_size=0.4, random_state=42)"
   ]
  },
  {
   "cell_type": "markdown",
   "metadata": {
    "colab_type": "text",
    "id": "Ur9i3kUy4ZEz"
   },
   "source": [
    "### Let us check if indexes are the same on train_X and train_y"
   ]
  },
  {
   "cell_type": "code",
   "execution_count": 5,
   "metadata": {
    "colab": {
     "base_uri": "https://localhost:8080/",
     "height": 273
    },
    "colab_type": "code",
    "id": "LwJH4uUk3nLe",
    "outputId": "617eac85-7548-4062-8cf2-bf2a21c3a758"
   },
   "outputs": [
    {
     "data": {
      "text/html": [
       "<div>\n",
       "<style scoped>\n",
       "    .dataframe tbody tr th:only-of-type {\n",
       "        vertical-align: middle;\n",
       "    }\n",
       "\n",
       "    .dataframe tbody tr th {\n",
       "        vertical-align: top;\n",
       "    }\n",
       "\n",
       "    .dataframe thead th {\n",
       "        text-align: right;\n",
       "    }\n",
       "</style>\n",
       "<table border=\"1\" class=\"dataframe\">\n",
       "  <thead>\n",
       "    <tr style=\"text-align: right;\">\n",
       "      <th></th>\n",
       "      <th>duration: continuous</th>\n",
       "      <th>src_bytes: continuous</th>\n",
       "      <th>dst_bytes: continuous</th>\n",
       "      <th>land: symbolic</th>\n",
       "      <th>wrong_fragment: continuous</th>\n",
       "      <th>urgent: continuous</th>\n",
       "      <th>hot: continuous</th>\n",
       "      <th>num_failed_logins: continuous</th>\n",
       "      <th>logged_in: symbolic</th>\n",
       "      <th>num_compromised: continuous</th>\n",
       "      <th>...</th>\n",
       "      <th>flag: symbolic_REJ</th>\n",
       "      <th>flag: symbolic_RSTO</th>\n",
       "      <th>flag: symbolic_RSTOS0</th>\n",
       "      <th>flag: symbolic_RSTR</th>\n",
       "      <th>flag: symbolic_S0</th>\n",
       "      <th>flag: symbolic_S1</th>\n",
       "      <th>flag: symbolic_S2</th>\n",
       "      <th>flag: symbolic_S3</th>\n",
       "      <th>flag: symbolic_SF</th>\n",
       "      <th>flag: symbolic_SH</th>\n",
       "    </tr>\n",
       "  </thead>\n",
       "  <tbody>\n",
       "    <tr>\n",
       "      <td>536411</td>\n",
       "      <td>0</td>\n",
       "      <td>105</td>\n",
       "      <td>147</td>\n",
       "      <td>0</td>\n",
       "      <td>0</td>\n",
       "      <td>0</td>\n",
       "      <td>0</td>\n",
       "      <td>0</td>\n",
       "      <td>0</td>\n",
       "      <td>0</td>\n",
       "      <td>...</td>\n",
       "      <td>0</td>\n",
       "      <td>0</td>\n",
       "      <td>0</td>\n",
       "      <td>0</td>\n",
       "      <td>0</td>\n",
       "      <td>0</td>\n",
       "      <td>0</td>\n",
       "      <td>0</td>\n",
       "      <td>1</td>\n",
       "      <td>0</td>\n",
       "    </tr>\n",
       "    <tr>\n",
       "      <td>115203</td>\n",
       "      <td>0</td>\n",
       "      <td>306</td>\n",
       "      <td>868</td>\n",
       "      <td>0</td>\n",
       "      <td>0</td>\n",
       "      <td>0</td>\n",
       "      <td>0</td>\n",
       "      <td>0</td>\n",
       "      <td>1</td>\n",
       "      <td>0</td>\n",
       "      <td>...</td>\n",
       "      <td>0</td>\n",
       "      <td>0</td>\n",
       "      <td>0</td>\n",
       "      <td>0</td>\n",
       "      <td>0</td>\n",
       "      <td>0</td>\n",
       "      <td>0</td>\n",
       "      <td>0</td>\n",
       "      <td>1</td>\n",
       "      <td>0</td>\n",
       "    </tr>\n",
       "    <tr>\n",
       "      <td>49992</td>\n",
       "      <td>0</td>\n",
       "      <td>278</td>\n",
       "      <td>622</td>\n",
       "      <td>0</td>\n",
       "      <td>0</td>\n",
       "      <td>0</td>\n",
       "      <td>0</td>\n",
       "      <td>0</td>\n",
       "      <td>1</td>\n",
       "      <td>0</td>\n",
       "      <td>...</td>\n",
       "      <td>0</td>\n",
       "      <td>0</td>\n",
       "      <td>0</td>\n",
       "      <td>0</td>\n",
       "      <td>0</td>\n",
       "      <td>0</td>\n",
       "      <td>0</td>\n",
       "      <td>0</td>\n",
       "      <td>1</td>\n",
       "      <td>0</td>\n",
       "    </tr>\n",
       "    <tr>\n",
       "      <td>282474</td>\n",
       "      <td>0</td>\n",
       "      <td>0</td>\n",
       "      <td>0</td>\n",
       "      <td>0</td>\n",
       "      <td>0</td>\n",
       "      <td>0</td>\n",
       "      <td>0</td>\n",
       "      <td>0</td>\n",
       "      <td>0</td>\n",
       "      <td>0</td>\n",
       "      <td>...</td>\n",
       "      <td>1</td>\n",
       "      <td>0</td>\n",
       "      <td>0</td>\n",
       "      <td>0</td>\n",
       "      <td>0</td>\n",
       "      <td>0</td>\n",
       "      <td>0</td>\n",
       "      <td>0</td>\n",
       "      <td>0</td>\n",
       "      <td>0</td>\n",
       "    </tr>\n",
       "    <tr>\n",
       "      <td>305260</td>\n",
       "      <td>1</td>\n",
       "      <td>1135</td>\n",
       "      <td>332</td>\n",
       "      <td>0</td>\n",
       "      <td>0</td>\n",
       "      <td>0</td>\n",
       "      <td>0</td>\n",
       "      <td>0</td>\n",
       "      <td>1</td>\n",
       "      <td>0</td>\n",
       "      <td>...</td>\n",
       "      <td>0</td>\n",
       "      <td>0</td>\n",
       "      <td>0</td>\n",
       "      <td>0</td>\n",
       "      <td>0</td>\n",
       "      <td>0</td>\n",
       "      <td>0</td>\n",
       "      <td>0</td>\n",
       "      <td>1</td>\n",
       "      <td>0</td>\n",
       "    </tr>\n",
       "  </tbody>\n",
       "</table>\n",
       "<p>5 rows × 118 columns</p>\n",
       "</div>"
      ],
      "text/plain": [
       "        duration: continuous  src_bytes: continuous  dst_bytes: continuous  \\\n",
       "536411                     0                    105                    147   \n",
       "115203                     0                    306                    868   \n",
       "49992                      0                    278                    622   \n",
       "282474                     0                      0                      0   \n",
       "305260                     1                   1135                    332   \n",
       "\n",
       "        land: symbolic  wrong_fragment: continuous  urgent: continuous  \\\n",
       "536411               0                           0                   0   \n",
       "115203               0                           0                   0   \n",
       "49992                0                           0                   0   \n",
       "282474               0                           0                   0   \n",
       "305260               0                           0                   0   \n",
       "\n",
       "        hot: continuous  num_failed_logins: continuous  logged_in: symbolic  \\\n",
       "536411                0                              0                    0   \n",
       "115203                0                              0                    1   \n",
       "49992                 0                              0                    1   \n",
       "282474                0                              0                    0   \n",
       "305260                0                              0                    1   \n",
       "\n",
       "        num_compromised: continuous  ...  flag: symbolic_REJ  \\\n",
       "536411                            0  ...                   0   \n",
       "115203                            0  ...                   0   \n",
       "49992                             0  ...                   0   \n",
       "282474                            0  ...                   1   \n",
       "305260                            0  ...                   0   \n",
       "\n",
       "        flag: symbolic_RSTO  flag: symbolic_RSTOS0  flag: symbolic_RSTR  \\\n",
       "536411                    0                      0                    0   \n",
       "115203                    0                      0                    0   \n",
       "49992                     0                      0                    0   \n",
       "282474                    0                      0                    0   \n",
       "305260                    0                      0                    0   \n",
       "\n",
       "        flag: symbolic_S0  flag: symbolic_S1  flag: symbolic_S2  \\\n",
       "536411                  0                  0                  0   \n",
       "115203                  0                  0                  0   \n",
       "49992                   0                  0                  0   \n",
       "282474                  0                  0                  0   \n",
       "305260                  0                  0                  0   \n",
       "\n",
       "        flag: symbolic_S3  flag: symbolic_SF  flag: symbolic_SH  \n",
       "536411                  0                  1                  0  \n",
       "115203                  0                  1                  0  \n",
       "49992                   0                  1                  0  \n",
       "282474                  0                  0                  0  \n",
       "305260                  0                  1                  0  \n",
       "\n",
       "[5 rows x 118 columns]"
      ]
     },
     "execution_count": 5,
     "metadata": {},
     "output_type": "execute_result"
    }
   ],
   "source": [
    "train_X.head()"
   ]
  },
  {
   "cell_type": "code",
   "execution_count": 6,
   "metadata": {
    "colab": {
     "base_uri": "https://localhost:8080/",
     "height": 121
    },
    "colab_type": "code",
    "id": "z_2a0t1m3pMF",
    "outputId": "a559c7a5-9d11-47f5-c44b-999a8501c4ed"
   },
   "outputs": [
    {
     "data": {
      "text/plain": [
       "536411    1\n",
       "115203    1\n",
       "49992     1\n",
       "282474    1\n",
       "305260    1\n",
       "Name: connection_type, dtype: int32"
      ]
     },
     "execution_count": 6,
     "metadata": {},
     "output_type": "execute_result"
    }
   ],
   "source": [
    "train_y.head()"
   ]
  },
  {
   "cell_type": "markdown",
   "metadata": {},
   "source": [
    "## Let us standardize the data"
   ]
  },
  {
   "cell_type": "code",
   "execution_count": 7,
   "metadata": {},
   "outputs": [],
   "source": [
    "scaler = StandardScaler()\n",
    "train_X =  scaler.fit_transform(train_X.values)\n",
    "test_X = scaler.transform(test_X.values)"
   ]
  },
  {
   "cell_type": "markdown",
   "metadata": {
    "colab_type": "text",
    "id": "bHrmiXqm4rjp"
   },
   "source": [
    "## Time to do some anomaly detection"
   ]
  },
  {
   "cell_type": "code",
   "execution_count": 8,
   "metadata": {},
   "outputs": [
    {
     "data": {
      "text/plain": [
       " 1    0.955274\n",
       "-1    0.044726\n",
       "Name: connection_type, dtype: float64"
      ]
     },
     "execution_count": 8,
     "metadata": {},
     "output_type": "execute_result"
    }
   ],
   "source": [
    "train_y.value_counts() / len(train_y)"
   ]
  },
  {
   "cell_type": "code",
   "execution_count": 9,
   "metadata": {
    "colab": {},
    "colab_type": "code",
    "id": "yCoQu-yh4Iq1"
   },
   "outputs": [],
   "source": [
    "iforest = IsolationForest(contamination=0.05, behaviour='new', random_state=1)\n",
    "iforest.fit(train_X)\n",
    "train_prediction = iforest.predict(train_X)\n",
    "test_prediction = iforest.predict(test_X)"
   ]
  },
  {
   "cell_type": "code",
   "execution_count": 10,
   "metadata": {
    "colab": {},
    "colab_type": "code",
    "id": "oLRayBed46na"
   },
   "outputs": [],
   "source": [
    "cm_train = metrics.confusion_matrix(train_y, train_prediction)\n",
    "cm_test = metrics.confusion_matrix(test_y, test_prediction)"
   ]
  },
  {
   "cell_type": "code",
   "execution_count": 11,
   "metadata": {
    "colab": {},
    "colab_type": "code",
    "id": "TGXmW2m7NHpZ"
   },
   "outputs": [],
   "source": [
    "def plot_confusion_matrix(cm, classes,\n",
    "                          normalize=False,\n",
    "                          title='Confusion matrix',\n",
    "                          cmap=plt.cm.Blues):\n",
    "    \"\"\"\n",
    "    This function prints and plots the confusion matrix.\n",
    "    Normalization can be applied by setting `normalize=True`.\n",
    "    \"\"\"\n",
    "    if normalize:\n",
    "        cm = cm.astype('float') / cm.sum(axis=1)[:, np.newaxis]\n",
    "    \n",
    "    plt.figure()\n",
    "    plt.imshow(cm, interpolation='nearest', cmap=cmap)\n",
    "    plt.title(title)\n",
    "    plt.colorbar()\n",
    "    \n",
    "    tick_marks = np.arange(len(classes))\n",
    "\n",
    "    plt.yticks(tick_marks, classes)\n",
    "    plt.xticks(tick_marks, classes, rotation=45)\n",
    "\n",
    "\n",
    "    fmt = '.2f' if normalize else 'd'\n",
    "    thresh = cm.max() / 2.\n",
    "    for i, j in itertools.product(range(cm.shape[0]), range(cm.shape[1])):    # Same as a nested for loop\n",
    "        plt.text(j, i, format(cm[i, j], fmt),\n",
    "                 horizontalalignment=\"center\",\n",
    "                 color=\"white\" if cm[i, j] > thresh else \"black\")\n",
    "\n",
    "    plt.ylabel('True label')\n",
    "    plt.xlabel('Predicted label')\n",
    "    plt.tight_layout()"
   ]
  },
  {
   "cell_type": "code",
   "execution_count": 12,
   "metadata": {
    "colab": {
     "base_uri": "https://localhost:8080/",
     "height": 401
    },
    "colab_type": "code",
    "id": "s_akdyBcNMTr",
    "outputId": "81d61c08-71f3-4880-c780-b81bd6695b8d"
   },
   "outputs": [
    {
     "data": {
      "image/png": "[encoded data removed]",
      "text/plain": [
       "<Figure size 432x288 with 2 Axes>"
      ]
     },
     "metadata": {
      "needs_background": "light"
     },
     "output_type": "display_data"
    }
   ],
   "source": [
    "plot_confusion_matrix(cm_train, ['Anomalies', 'Ok'])\n",
    "\n",
    "plt.show()"
   ]
  },
  {
   "cell_type": "code",
   "execution_count": 13,
   "metadata": {
    "colab": {
     "base_uri": "https://localhost:8080/",
     "height": 401
    },
    "colab_type": "code",
    "id": "lvp1Zsg7NSIh",
    "outputId": "31710738-d714-4723-a480-849b5d614bf8"
   },
   "outputs": [
    {
     "data": {
      "image/png": "[encoded data removed]",
      "text/plain": [
       "<Figure size 432x288 with 2 Axes>"
      ]
     },
     "metadata": {
      "needs_background": "light"
     },
     "output_type": "display_data"
    }
   ],
   "source": [
    "plot_confusion_matrix(cm_test, ['Anomalies', 'Ok'])\n",
    "plt.show()"
   ]
  },
  {
   "cell_type": "markdown",
   "metadata": {},
   "source": [
    "From this, we see that we detect the majority of hacking attempts, even when we don't have labeled training data. Furthermore, we see that the generalisation gap between the training and validation set is fairly low."
   ]
  }
 ],
 "metadata": {
  "colab": {
   "name": "Anomaly Detection using Isolation Forest.ipynb",
   "provenance": [],
   "version": "0.3.2"
  },
  "kernelspec": {
   "display_name": "Python 3",
   "language": "python",
   "name": "python3"
  },
  "language_info": {
   "codemirror_mode": {
    "name": "ipython",
    "version": 3
   },
   "file_extension": ".py",
   "mimetype": "text/x-python",
   "name": "python",
   "nbconvert_exporter": "python",
   "pygments_lexer": "ipython3",
   "version": "3.7.4"
  }
 },
 "nbformat": 4,
 "nbformat_minor": 2
}
