{
 "cells": [
  {
   "cell_type": "markdown",
   "metadata": {
    "slideshow": {
     "slide_type": "slide"
    }
   },
   "source": [
    "# DAT300"
   ]
  },
  {
   "cell_type": "markdown",
   "metadata": {
    "slideshow": {
     "slide_type": "-"
    }
   },
   "source": [
    "<img src=\"./images/DAT300_H2019.jpg\" alt=\"DAT300\" style=\"width: 736px;\"/>"
   ]
  },
  {
   "cell_type": "markdown",
   "metadata": {
    "slideshow": {
     "slide_type": "slide"
    }
   },
   "source": [
    "# The men\n",
    "- Kristian Hovde Liland\n",
    "- Oliver Tomic  \n",
    "  \n",
    "Associate Professors in Data Science."
   ]
  },
  {
   "cell_type": "markdown",
   "metadata": {
    "slideshow": {
     "slide_type": "fragment"
    }
   },
   "source": [
    "## The boys\n",
    "- Runar Helin\n",
    "- Stanislau \"Stas\" Trukhan\n",
    "- Mike Riess  \n",
    "  \n",
    "PhD students applying/developing machine- and deep learning methods."
   ]
  },
  {
   "cell_type": "markdown",
   "metadata": {
    "slideshow": {
     "slide_type": "slide"
    }
   },
   "source": [
    "## The resources\n",
    "- Canvas: https://nmbu.instructure.com/courses/4151  \n",
    "  - Information hub\n",
    "  - Compulsory assignments\n",
    "- GitLab: https://gitlab.com/nmbu.no/emner/DAT300/h2019  \n",
    "  - Git source for lectures and exercises  \n",
    "- Google Colaboratory: https://colab.research.google.com  \n",
    "  - Online processing\n",
    "- Kaggle: https://www.kaggle.com/\n",
    "  - Compulsory assignments, competitions and solutions"
   ]
  },
  {
   "cell_type": "markdown",
   "metadata": {
    "slideshow": {
     "slide_type": "slide"
    }
   },
   "source": [
    "## The book\n",
    "<img src=\"./images/TheBook.jpg\" alt=\"Python Machine Learning\" style=\"width: 200px;\"/>  \n",
    "- Python Machine Learning, 2nd edition, By Raschka & Mirjalili  \n",
    "    - Available in Boksmia\n",
    "    - .. or https://www.akademika.no/python-machine-learning/raschka-sebastian/mirjalili-vahid/9781787125933\n",
    "    - .. or https://www.packtpub.com/big-data-and-business-intelligence/python-machine-learning-second-edition"
   ]
  },
  {
   "cell_type": "markdown",
   "metadata": {
    "slideshow": {
     "slide_type": "slide"
    }
   },
   "source": [
    "<img src=\"./images/TentativePlan_2019.png\" alt=\"Tentative plan\" style=\"width: 1032px;\"/>"
   ]
  },
  {
   "cell_type": "markdown",
   "metadata": {
    "slideshow": {
     "slide_type": "slide"
    }
   },
   "source": [
    "<img src=\"./images/MarkZuckerberg.jpg\" alt=\"Ethics\" style=\"width: 720px;\"/>"
   ]
  }
 ],
 "metadata": {
  "celltoolbar": "Slideshow",
  "jupytext": {
   "formats": "ipynb,py"
  },
  "kernelspec": {
   "display_name": "Python 3",
   "language": "python",
   "name": "python3"
  },
  "language_info": {
   "codemirror_mode": {
    "name": "ipython",
    "version": 3
   },
   "file_extension": ".py",
   "mimetype": "text/x-python",
   "name": "python",
   "nbconvert_exporter": "python",
   "pygments_lexer": "ipython3",
   "version": "3.7.0"
  }
 },
 "nbformat": 4,
 "nbformat_minor": 2
}
