{
 "cells": [
  {
   "cell_type": "markdown",
   "metadata": {
    "colab_type": "text",
    "id": "OGTFJpFuXijb"
   },
   "source": [
    "# Kaggle API\n",
    "### After downloading key from kaggle.com to Google Drive:\n",
    "Access Google Drive, copy kaggle.json to Colab and report progress.  \n",
    "Authentication of Google account is part of the process (once every session)."
   ]
  },
  {
   "cell_type": "code",
   "execution_count": 1,
   "metadata": {
    "colab": {
     "base_uri": "https://localhost:8080/",
     "height": 34
    },
    "colab_type": "code",
    "executionInfo": {
     "elapsed": 38268,
     "status": "ok",
     "timestamp": 1539967204162,
     "user": {
      "displayName": "Kristian Hovde Liland",
      "photoUrl": "",
      "userId": "17029564817631307256"
     },
     "user_tz": -120
    },
    "id": "hsrzPdK8lgWy",
    "outputId": "e458913d-8d28-4d23-f18c-b3a6dc6ba4ea"
   },
   "outputs": [
    {
     "name": "stdout",
     "output_type": "stream",
     "text": [
      "Download 100%.\n"
     ]
    }
   ],
   "source": [
    "from googleapiclient.discovery import build\n",
    "import io, os\n",
    "from googleapiclient.http import MediaIoBaseDownload\n",
    "from google.colab import auth\n",
    "auth.authenticate_user()\n",
    "drive_service = build('drive', 'v3')\n",
    "results = drive_service.files().list(\n",
    "        q=\"name = 'kaggle.json'\", fields=\"files(id)\").execute()\n",
    "kaggle_api_key = results.get('files', [])\n",
    "filename = \"/.kaggle/kaggle.json\"\n",
    "os.makedirs(os.path.dirname(filename), exist_ok=True)\n",
    "request = drive_service.files().get_media(fileId=kaggle_api_key[0]['id'])\n",
    "fh = io.FileIO(filename, 'wb')\n",
    "downloader = MediaIoBaseDownload(fh, request)\n",
    "done = False\n",
    "while done is False:\n",
    "    status, done = downloader.next_chunk()\n",
    "    print(\"Download %d%%.\" % int(status.progress() * 100))\n",
    "os.chmod(filename, 600)"
   ]
  },
  {
   "cell_type": "code",
   "execution_count": 0,
   "metadata": {
    "colab": {},
    "colab_type": "code",
    "id": "LT8DgU0URsD2"
   },
   "outputs": [],
   "source": [
    "# Check existence of file\n",
    "!ls /.kaggle\n",
    "!cat /.kaggle/kaggle.json"
   ]
  },
  {
   "cell_type": "code",
   "execution_count": 0,
   "metadata": {
    "colab": {},
    "colab_type": "code",
    "id": "HBR8u5Bd5td0"
   },
   "outputs": [],
   "source": [
    "!mkdir -p ~/.kaggle\n",
    "!cp /.kaggle/kaggle.json ~/.kaggle/"
   ]
  },
  {
   "cell_type": "code",
   "execution_count": 4,
   "metadata": {
    "colab": {
     "base_uri": "https://localhost:8080/",
     "height": 440
    },
    "colab_type": "code",
    "executionInfo": {
     "elapsed": 5771,
     "status": "ok",
     "timestamp": 1539967225401,
     "user": {
      "displayName": "Kristian Hovde Liland",
      "photoUrl": "",
      "userId": "17029564817631307256"
     },
     "user_tz": -120
    },
    "id": "TUCym-uoP9tG",
    "outputId": "3f54e666-56c3-45ee-ceea-7139d52268d6"
   },
   "outputs": [
    {
     "name": "stdout",
     "output_type": "stream",
     "text": [
      "Collecting kaggle\n",
      "\u001b[?25l  Downloading https://files.pythonhosted.org/packages/c6/78/832b9a9ec6b3baf8ec566e1f0a695f2fd08d2c94a6797257a106304bfc3c/kaggle-1.4.7.1.tar.gz (52kB)\n",
      "\u001b[K    100% |████████████████████████████████| 61kB 4.0MB/s \n",
      "\u001b[?25hRequirement already satisfied: urllib3<1.23.0,>=1.15 in /usr/local/lib/python3.6/dist-packages (from kaggle) (1.22)\n",
      "Requirement already satisfied: six>=1.10 in /usr/local/lib/python3.6/dist-packages (from kaggle) (1.11.0)\n",
      "Requirement already satisfied: certifi in /usr/local/lib/python3.6/dist-packages (from kaggle) (2018.10.15)\n",
      "Requirement already satisfied: python-dateutil in /usr/local/lib/python3.6/dist-packages (from kaggle) (2.5.3)\n",
      "Requirement already satisfied: requests in /usr/local/lib/python3.6/dist-packages (from kaggle) (2.18.4)\n",
      "Requirement already satisfied: tqdm in /usr/local/lib/python3.6/dist-packages (from kaggle) (4.27.0)\n",
      "Collecting python-slugify (from kaggle)\n",
      "  Downloading https://files.pythonhosted.org/packages/00/ad/c778a6df614b6217c30fe80045b365bfa08b5dd3cb02e8b37a6d25126781/python-slugify-1.2.6.tar.gz\n",
      "Requirement already satisfied: idna<2.7,>=2.5 in /usr/local/lib/python3.6/dist-packages (from requests->kaggle) (2.6)\n",
      "Requirement already satisfied: chardet<3.1.0,>=3.0.2 in /usr/local/lib/python3.6/dist-packages (from requests->kaggle) (3.0.4)\n",
      "Collecting Unidecode>=0.04.16 (from python-slugify->kaggle)\n",
      "\u001b[?25l  Downloading https://files.pythonhosted.org/packages/59/ef/67085e30e8bbcdd76e2f0a4ad8151c13a2c5bce77c85f8cad6e1f16fb141/Unidecode-1.0.22-py2.py3-none-any.whl (235kB)\n",
      "\u001b[K    100% |████████████████████████████████| 235kB 7.2MB/s \n",
      "\u001b[?25hBuilding wheels for collected packages: kaggle, python-slugify\n",
      "  Running setup.py bdist_wheel for kaggle ... \u001b[?25l-\b \bdone\n",
      "\u001b[?25h  Stored in directory: /root/.cache/pip/wheels/44/2c/df/22a6eeb780c36c28190faef6252b739fdc47145fd87a6642d4\n",
      "  Running setup.py bdist_wheel for python-slugify ... \u001b[?25l-\b \bdone\n",
      "\u001b[?25h  Stored in directory: /root/.cache/pip/wheels/e3/65/da/2045deea3098ed7471eca0e2460cfbd3fdfe8c1d6fa6fcac92\n",
      "Successfully built kaggle python-slugify\n",
      "Installing collected packages: Unidecode, python-slugify, kaggle\n",
      "Successfully installed Unidecode-1.0.22 kaggle-1.4.7.1 python-slugify-1.2.6\n"
     ]
    }
   ],
   "source": [
    "# Install Python part of kaggle\n",
    "!pip install kaggle"
   ]
  },
  {
   "cell_type": "markdown",
   "metadata": {
    "colab_type": "text",
    "id": "GRVNQlw6n3Jo"
   },
   "source": [
    "### Check if connection is succesfull"
   ]
  },
  {
   "cell_type": "code",
   "execution_count": 5,
   "metadata": {
    "colab": {
     "base_uri": "https://localhost:8080/",
     "height": 406
    },
    "colab_type": "code",
    "executionInfo": {
     "elapsed": 3418,
     "status": "ok",
     "timestamp": 1539967231871,
     "user": {
      "displayName": "Kristian Hovde Liland",
      "photoUrl": "",
      "userId": "17029564817631307256"
     },
     "user_tz": -120
    },
    "id": "GsNuGCHTn2Q3",
    "outputId": "4686d47f-c881-4ae4-b4d9-776b2da165cb"
   },
   "outputs": [
    {
     "name": "stdout",
     "output_type": "stream",
     "text": [
      "ref                                            deadline             category            reward  teamCount  userHasEntered  \n",
      "---------------------------------------------  -------------------  ---------------  ---------  ---------  --------------  \n",
      "digit-recognizer                               2030-01-01 00:00:00  Getting Started  Knowledge       2649           False  \n",
      "titanic                                        2030-01-01 00:00:00  Getting Started  Knowledge       9858            True  \n",
      "house-prices-advanced-regression-techniques    2030-01-01 00:00:00  Getting Started  Knowledge       4192            True  \n",
      "imagenet-object-localization-challenge         2029-12-31 07:00:00  Research         Knowledge         26           False  \n",
      "pubg-finish-placement-prediction               2019-01-30 23:59:00  Playground            Swag         38           False  \n",
      "human-protein-atlas-image-classification       2019-01-10 23:59:00  Featured           $37,000        342           False  \n",
      "two-sigma-financial-news                       2019-01-08 23:59:00  Featured          $100,000        895           False  \n",
      "competitive-data-science-predict-future-sales  2019-01-01 23:59:00  Playground           Kudos       1608           False  \n",
      "PLAsTiCC-2018                                  2018-12-17 23:59:00  Featured           $25,000        278           False  \n",
      "quickdraw-doodle-recognition                   2018-12-04 23:59:00  Featured           $25,000        299           False  \n",
      "ga-customer-revenue-prediction                 2018-11-30 23:59:00  Featured           $45,000       2665           False  \n",
      "airbus-ship-detection                          2018-11-14 23:59:00  Featured           $60,000        258           False  \n",
      "inclusive-images-challenge                     2018-11-05 23:59:00  Research           $25,000        370           False  \n",
      "rsna-pneumonia-detection-challenge             2018-10-24 23:59:00  Featured           $30,000       1333           False  \n",
      "tgs-salt-identification-challenge              2018-10-19 23:59:00  Featured          $100,000       3275           False  \n",
      "new-york-city-taxi-fare-prediction             2018-09-25 23:59:00  Playground       Knowledge       1488           False  \n",
      "forest-cover-type-kernels-only                 2018-09-24 23:59:00  Playground       Knowledge        359           False  \n",
      "demand-forecasting-kernels-only                2018-09-24 23:59:00  Playground       Knowledge        462           False  \n",
      "whats-cooking-kernels-only                     2018-09-24 23:59:00  Playground       Knowledge        523           False  \n",
      "flavours-of-physics-kernels-only               2018-09-24 23:59:00  Playground       Knowledge         64           False  \n"
     ]
    }
   ],
   "source": [
    "# As of Tuesday after lunch, it seems that the Kaggle API is offline. We hope it will be back soon.\n",
    "!kaggle competitions list"
   ]
  },
  {
   "cell_type": "markdown",
   "metadata": {
    "colab_type": "text",
    "id": "pKDQL0qfoMrf"
   },
   "source": [
    "### Download MNIST-like fashion data from Zalando Research"
   ]
  },
  {
   "cell_type": "code",
   "execution_count": 0,
   "metadata": {
    "colab": {},
    "colab_type": "code",
    "id": "BDfYj2Cil4md"
   },
   "outputs": [],
   "source": [
    "!kaggle datasets download -d zalando-research/fashionmnist -p /content/kaggle"
   ]
  },
  {
   "cell_type": "markdown",
   "metadata": {
    "colab_type": "text",
    "id": "athbk7qNoZMy"
   },
   "source": [
    "See what you got"
   ]
  },
  {
   "cell_type": "code",
   "execution_count": 0,
   "metadata": {
    "colab": {},
    "colab_type": "code",
    "id": "mVzI-YyPnLtK"
   },
   "outputs": [],
   "source": [
    "!ls /content/kaggle"
   ]
  },
  {
   "cell_type": "markdown",
   "metadata": {
    "colab_type": "text",
    "id": "86zAAjlYo1GA"
   },
   "source": [
    "Oooh. A zip file. Let's unzip it."
   ]
  },
  {
   "cell_type": "code",
   "execution_count": 0,
   "metadata": {
    "colab": {},
    "colab_type": "code",
    "id": "LfQnUhn9o7Ur"
   },
   "outputs": [],
   "source": [
    "!unzip /content/kaggle/*.zip -d /content/kaggle/\n",
    "!ls /content/kaggle/"
   ]
  },
  {
   "cell_type": "markdown",
   "metadata": {
    "colab_type": "text",
    "id": "V4XqraajtNrT"
   },
   "source": [
    "Go mad using Python"
   ]
  },
  {
   "cell_type": "markdown",
   "metadata": {
    "colab_type": "text",
    "id": "AHhMBu9S8II8"
   },
   "source": [
    "# OpenML"
   ]
  },
  {
   "cell_type": "code",
   "execution_count": 0,
   "metadata": {
    "colab": {},
    "colab_type": "code",
    "id": "qeBl2hcs8LiK"
   },
   "outputs": [],
   "source": [
    "# Install package\n",
    "!pip install git+https://github.com/openml/openml-python.git@develop"
   ]
  },
  {
   "cell_type": "markdown",
   "metadata": {
    "colab_type": "text",
    "id": "aDNU1aHz_mTU"
   },
   "source": [
    "### Copy API key from Google Drive to Colab\n",
    "Requires that you have first logged into OpenML and saved your API key as 'apikey=MYKEY' in a file named 'config' directly to your Drive."
   ]
  },
  {
   "cell_type": "code",
   "execution_count": 0,
   "metadata": {
    "colab": {},
    "colab_type": "code",
    "id": "njXOXosV-QzV"
   },
   "outputs": [],
   "source": [
    "# Copy API key\n",
    "from googleapiclient.discovery import build\n",
    "import io, os\n",
    "from googleapiclient.http import MediaIoBaseDownload\n",
    "from google.colab import auth\n",
    "auth.authenticate_user()\n",
    "drive_service = build('drive', 'v3')\n",
    "results = drive_service.files().list(\n",
    "        q=\"name = 'config'\", fields=\"files(id)\").execute()\n",
    "config_api_key = results.get('files', [])\n",
    "filename = \"/.openml/config\"\n",
    "os.makedirs(os.path.dirname(filename), exist_ok=True)\n",
    "request = drive_service.files().get_media(fileId=config_api_key[0]['id'])\n",
    "fh = io.FileIO(filename, 'wb')\n",
    "downloader = MediaIoBaseDownload(fh, request)\n",
    "done = False\n",
    "while done is False:\n",
    "    status, done = downloader.next_chunk()\n",
    "    print(\"Download %d%%.\" % int(status.progress() * 100))\n",
    "os.chmod(filename, 600)"
   ]
  },
  {
   "cell_type": "code",
   "execution_count": 0,
   "metadata": {
    "colab": {},
    "colab_type": "code",
    "id": "aathjfCN7KgN"
   },
   "outputs": [],
   "source": [
    "# This should show 'config' as the output\n",
    "!ls /.openml"
   ]
  },
  {
   "cell_type": "markdown",
   "metadata": {
    "colab_type": "text",
    "id": "Z6-vyJno_YqO"
   },
   "source": [
    "### Test OpenML connection by listing some data sets"
   ]
  },
  {
   "cell_type": "code",
   "execution_count": 0,
   "metadata": {
    "colab": {},
    "colab_type": "code",
    "id": "L0Y7lcXO-m7C"
   },
   "outputs": [],
   "source": [
    "import openml as oml\n",
    "openml_list = oml.datasets.list_datasets() # Returns a dict\n",
    "\n",
    "# Show a nice table with some key data properties\n",
    "import pandas as pd\n",
    "datalist = pd.DataFrame.from_dict(openml_list, orient='index') \n",
    "datalist = datalist[[\n",
    "    'did','name','NumberOfInstances',\n",
    "    'NumberOfFeatures','NumberOfClasses'\n",
    "]]\n",
    "print(\"First 10 of %s datasets...\" % len(datalist))\n",
    "datalist.head(n=10)"
   ]
  }
 ],
 "metadata": {
  "accelerator": "GPU",
  "colab": {
   "collapsed_sections": [],
   "name": "System stuff.ipynb",
   "provenance": [],
   "toc_visible": true,
   "version": "0.3.2"
  },
  "kernelspec": {
   "display_name": "Python 3",
   "language": "python",
   "name": "python3"
  },
  "language_info": {
   "codemirror_mode": {
    "name": "ipython",
    "version": 3
   },
   "file_extension": ".py",
   "mimetype": "text/x-python",
   "name": "python",
   "nbconvert_exporter": "python",
   "pygments_lexer": "ipython3",
   "version": "3.7.0"
  }
 },
 "nbformat": 4,
 "nbformat_minor": 1
}
