{
 "cells": [
  {
   "cell_type": "code",
   "execution_count": 6,
   "metadata": {},
   "outputs": [],
   "source": [
    "import os\n",
    "import sys\n",
    "import tarfile\n",
    "import time\n",
    "\n",
    "import pyprind       # pip install pyprind, if you haven't used it before\n",
    "import pandas as pd\n",
    "import numpy as np\n",
    "\n",
    "\n",
    "source = 'http://ai.stanford.edu/~amaas/data/sentiment/aclImdb_v1.tar.gz'\n",
    "target = '../../data/aclImdb_v1.tar.gz'\n",
    "\n",
    "aclImdb_extracted_dir = '../../data/aclImdb'\n",
    "\n",
    "movie_data_dir = '../../data/movie_data.csv'\n",
    "\n",
    "\n",
    "def reporthook(count, block_size, total_size):\n",
    "    global start_time\n",
    "    if count == 0:\n",
    "        start_time = time.time()\n",
    "        return\n",
    "    duration = time.time() - start_time\n",
    "    if duration == 0:\n",
    "        duration = 10**-3\n",
    "    progress_size = int(count * block_size)\n",
    "    speed = progress_size / (1024.**2 * duration)\n",
    "    percent = count * block_size * 100. / total_size\n",
    "    sys.stdout.write(\"\\r%d%% | %d MB | %.2f MB/s | %d sec elapsed\" %\n",
    "                    (percent, progress_size / (1024.**2), speed, duration))\n",
    "    sys.stdout.flush()"
   ]
  },
  {
   "cell_type": "code",
   "execution_count": 7,
   "metadata": {},
   "outputs": [],
   "source": [
    "# This download takes a couple of seconds at NMBU (<30)\n",
    "if not os.path.isdir(aclImdb_extracted_dir) and not os.path.isfile(target):\n",
    "    \n",
    "    if (sys.version_info < (3, 0)):\n",
    "        import urllib\n",
    "        urllib.urlretrieve(source, target, reporthook)\n",
    "    \n",
    "    else:\n",
    "        import urllib.request\n",
    "        urllib.request.urlretrieve(source, target, reporthook)"
   ]
  },
  {
   "cell_type": "code",
   "execution_count": 8,
   "metadata": {},
   "outputs": [],
   "source": [
    "# The extraction can take several minutes as all 50,000 reviews are stored as separate text files\n",
    "# (101,111 files). \n",
    "# Extracting to a synced folder (Dropbox, Google Drive, OneDrive, ...) may slow the process further.\n",
    "if not os.path.isdir(aclImdb_extracted_dir):\n",
    "\n",
    "    with tarfile.open(target, 'r:gz') as tar:\n",
    "        tar.extractall()"
   ]
  },
  {
   "cell_type": "code",
   "execution_count": 10,
   "metadata": {},
   "outputs": [],
   "source": [
    "if not os.path.isfile(movie_data_dir):\n",
    "    # change the `basepath` to the directory of the\n",
    "    # unzipped movie dataset\n",
    "\n",
    "    basepath = aclImdb_extracted_dir\n",
    "\n",
    "    labels = {'pos': 1, 'neg': 0}\n",
    "    pbar = pyprind.ProgBar(50000)\n",
    "    df = pd.DataFrame()\n",
    "    for s in ('test', 'train'):\n",
    "        for l in ('pos', 'neg'):\n",
    "            path = os.path.join(basepath, s, l)\n",
    "            for file in sorted(os.listdir(path)):\n",
    "                with open(os.path.join(path, file), \n",
    "                          'r', encoding='utf-8') as infile:\n",
    "                    txt = infile.read()\n",
    "                df = df.append([[txt, labels[l]]], \n",
    "                               ignore_index=True)\n",
    "                pbar.update()\n",
    "    df.columns = ['review', 'sentiment']\n",
    "    \n",
    "    # shuffle it\n",
    "    np.random.seed(0)\n",
    "    df = df.reindex(np.random.permutation(df.index))\n",
    "    df.to_csv(movie_data_dir, index=False, encoding='utf-8')\n",
    "else:\n",
    "    df = pd.read_csv(movie_data_dir, encoding='utf-8')\n",
    "    df.head(3)"
   ]
  },
  {
   "cell_type": "code",
   "execution_count": 17,
   "metadata": {},
   "outputs": [],
   "source": [
    "import re\n",
    "def preprocessor(text):\n",
    "    # Regular expression for HTML tags\n",
    "    text = re.sub('<[^>]*>', '', text)\n",
    "    \n",
    "    # Most typical emoticons (smileys)\n",
    "    emoticons = re.findall('(?::|;|=)(?:-)?(?:\\)|\\(|D|P)',\n",
    "                           text)\n",
    "    \n",
    "    # Remove all non-word characters, convert to lower-case and add possible emoticons to the end.\n",
    "    text = (re.sub('[\\W]+', ' ', text.lower()) +\n",
    "            ' '.join(emoticons).replace('-', ''))\n",
    "    return text"
   ]
  },
  {
   "cell_type": "code",
   "execution_count": 18,
   "metadata": {},
   "outputs": [],
   "source": [
    "# This takes a few seconds\n",
    "df['review'] = df['review'].apply(preprocessor)"
   ]
  },
  {
   "cell_type": "code",
   "execution_count": null,
   "metadata": {},
   "outputs": [],
   "source": []
  },
  {
   "cell_type": "code",
   "execution_count": 19,
   "metadata": {},
   "outputs": [],
   "source": [
    "X_train = df.loc[:25000, 'review'].values\n",
    "y_train = df.loc[:25000, 'sentiment'].values\n",
    "X_test = df.loc[25000:, 'review'].values\n",
    "y_test = df.loc[25000:, 'sentiment'].values"
   ]
  },
  {
   "cell_type": "code",
   "execution_count": 20,
   "metadata": {},
   "outputs": [],
   "source": [
    "def to_vw_format(document, label=None):\n",
    "    return str(label or '') + ' |text ' + ' '.join(re.findall('\\w{3,}', document.lower())) + '\\n'\n"
   ]
  },
  {
   "cell_type": "code",
   "execution_count": 21,
   "metadata": {},
   "outputs": [
    {
     "data": {
      "text/plain": [
       "'1 |text 1974 the teenager martha moxley maggie grace moves the high class area belle haven greenwich connecticut the mischief night eve halloween she was murdered the backyard her house and her murder remained unsolved twenty two years later the writer mark fuhrman christopher meloni who former detective that has fallen disgrace for perjury simpson trial and moved idaho decides investigate the case with his partner stephen weeks andrew mitchell with the purpose writing book the locals squirm and not welcome them but with the support the retired detective steve carroll robert forster that was charge the investigation the they discover the criminal and net power and money cover the murder murder greenwich good movie with the true story murder fifteen years old girl that was committed wealthy teenager whose mother was kennedy the powerful and rich family used their influence cover the murder for more than twenty years however snoopy detective and convicted perjurer disgrace was able disclose how the hideous crime was committed the screenplay shows the investigation mark and the last days martha parallel but there lack the emotion the dramatization vote seven title brazil not available\\n'"
      ]
     },
     "execution_count": 21,
     "metadata": {},
     "output_type": "execute_result"
    }
   ],
   "source": [
    "to_vw_format(str(X_train[0]), 1 if y_train[0] == 1 else -1)"
   ]
  },
  {
   "cell_type": "code",
   "execution_count": 22,
   "metadata": {},
   "outputs": [],
   "source": [
    "with open('../../data/movie_reviews_train.vw', 'w') as vw_train_data:\n",
    "    for text, target in zip(X_train, y_train):\n",
    "        vw_train_data.write(to_vw_format(str(text), 1 if target == 1 else -1))\n",
    "with open('../../data/movie_reviews_test.vw', 'w') as vw_test_data:\n",
    "    for text, target in zip(X_test, y_test):\n",
    "        vw_test_data.write(to_vw_format(str(text), 1 if target == 1 else -1))"
   ]
  },
  {
   "cell_type": "code",
   "execution_count": 23,
   "metadata": {
    "scrolled": true
   },
   "outputs": [
    {
     "name": "stdout",
     "output_type": "stream",
     "text": [
      "1 |text 1974 the teenager martha moxley maggie grace moves the high class area belle haven greenwich connecticut the mischief night eve halloween she was murdered the backyard her house and her murder remained unsolved twenty two years later the writer mark fuhrman christopher meloni who former detective that has fallen disgrace for perjury simpson trial and moved idaho decides investigate the case with his partner stephen weeks andrew mitchell with the purpose writing book the locals squirm and not welcome them but with the support the retired detective steve carroll robert forster that was charge the investigation the they discover the criminal and net power and money cover the murder murder greenwich good movie with the true story murder fifteen years old girl that was committed wealthy teenager whose mother was kennedy the powerful and rich family used their influence cover the murder for more than twenty years however snoopy detective and convicted perjurer disgrace was able disclose how the hideous crime was committed the screenplay shows the investigation mark and the last days martha parallel but there lack the emotion the dramatization vote seven title brazil not available\r\n",
      "-1 |text really like kris kristofferson and his usual easy going delivery lines his movies age has helped him with his soft spoken low energy style and will steal scene effortlessly but disappearance his misstep holy moly this was bad movie must give kudos the cinematography and and the actors including kris for trying their darndest make sense from this goofy confusing story none made sense and kris probably didn understand either and was just going through the motions hoping someone would come him and tell him what was all about don care that everyone this movie was doing out love for the project some such nonsense seen low budget movies that had plot for goodness sake this had none zilcho nada zippo empty reason complete waste good talent scenery and celluloid rented this piece garbage for buck and want money back want hours back invested this grade waste time don watch this movie waste minute your valuable time while passing through room where playing even open the case that holding the dvd believe you thank for the advice\r\n"
     ]
    }
   ],
   "source": [
    "!head -2 ../../data/movie_reviews_train.vw"
   ]
  },
  {
   "cell_type": "code",
   "execution_count": 24,
   "metadata": {},
   "outputs": [
    {
     "name": "stdout",
     "output_type": "stream",
     "text": [
      "-1 |text there part that would like give this movie high rating considering that was made 1953 this very courageous movie about transvestites tackling the issue fairly seriously and sympathetically and offering the viewer lot information the subject and trying very hard not stereotype the movie clearly makes the point that transvestites are not homosexuals and that aside from wearing women clothing they lead relatively normal life deals with the pain not being accepted society the plot revolves around police officer lyle talbot desperately trying understand the issue because the recent suicide transvestite you have give everyone involved with this movie credit for taking such controversial the context 1953 subject having said all that also sorry say that this movie absolutely dreadful trying portray glen glenda edward wood pain the movie falls into silly and times surprisingly again given the era sensual fantasies that make the story very hard follow the acting wooden best none the dialogue comes across real the actors look and sound like people reading speeches written others and worst all there was point having bela lugosi this movie this was another the increasingly embarrassing roles this poor man took the latter stages his career pull the strings pull the strings poor lugosi character called the spirit the credits but really coming across more mad scientist kept crying and nothing did really seemed have much connection with the rest the movie for artistic merit the movie doesn really deserve much more than however for the courage involved just putting out give\r\n",
      "1 |text excellent and moving story the end uniquely intimate affair then again the point the film paraphrase another comment that every relationship can unique and intimate truly quality short film which caught busiest yet had the power pull down onto the sofa and watch fixed and quiet for the duration bobby and tessa are powerfully moving characters and anyone who has suffered the end love affair will find this film cathartic exercise beyond that the film within film idea plays out very well with this cast and quite riveting though somewhat melancholic way\r\n"
     ]
    }
   ],
   "source": [
    "!head -2 ../../data/movie_reviews_test.vw"
   ]
  },
  {
   "cell_type": "code",
   "execution_count": 25,
   "metadata": {},
   "outputs": [],
   "source": [
    "!vw -d ../../data/movie_reviews_train.vw \\\n",
    "--loss_function hinge -f movie_reviews_model.vw --quiet"
   ]
  },
  {
   "cell_type": "code",
   "execution_count": 26,
   "metadata": {},
   "outputs": [],
   "source": [
    "!vw -i movie_reviews_model.vw -t -d ../../data/movie_reviews_test.vw \\\n",
    "-p movie_test_pred.txt --quiet"
   ]
  },
  {
   "cell_type": "code",
   "execution_count": null,
   "metadata": {},
   "outputs": [],
   "source": []
  },
  {
   "cell_type": "code",
   "execution_count": 27,
   "metadata": {},
   "outputs": [
    {
     "name": "stdout",
     "output_type": "stream",
     "text": [
      "final_regressor = movie_reviews_model.vw\n",
      "Num weight bits = 18\n",
      "learning rate = 0.5\n",
      "initial_t = 0\n",
      "power_t = 0.5\n",
      "using no cache\n",
      "Reading datafile = ../../data/movie_reviews_train.vw\n",
      "num sources = 1\n",
      "average  since         example        example  current  current  current\n",
      "loss     last          counter         weight    label  predict features\n",
      "1.000000 1.000000            1            1.0   1.0000   0.0000      189\n",
      "1.309170 1.618340            2            2.0  -1.0000   0.6183      178\n",
      "1.188423 1.067676            4            4.0   1.0000  -0.3807       66\n",
      "1.147236 1.106050            8            8.0   1.0000   0.2340      103\n",
      "1.106413 1.065589           16           16.0  -1.0000  -0.2138      101\n",
      "1.026719 0.947025           32           32.0  -1.0000   0.6213      524\n",
      "0.900352 0.773986           64           64.0  -1.0000   0.1053      382\n",
      "0.921935 0.943518          128          128.0   1.0000   0.1555      163\n",
      "0.820037 0.718139          256          256.0   1.0000   0.5732      125\n",
      "0.748954 0.677871          512          512.0  -1.0000  -1.0000      240\n",
      "0.652881 0.556807         1024         1024.0   1.0000   0.1686       96\n",
      "0.576747 0.500614         2048         2048.0   1.0000  -0.0951       74\n",
      "0.503517 0.430287         4096         4096.0   1.0000   0.0977      201\n",
      "0.427674 0.351831         8192         8192.0  -1.0000  -1.0000      140\n",
      "0.378018 0.328363        16384        16384.0   1.0000   1.0000      239\n",
      "\n",
      "finished run\n",
      "number of examples = 25001\n",
      "weighted example sum = 25001.000000\n",
      "weighted label sum = 53.000000\n",
      "average loss = 0.346793\n",
      "best constant = 1.000000\n",
      "best constant's loss = 0.997880\n",
      "total feature number = 4571281\n"
     ]
    }
   ],
   "source": [
    "# verbose mode (training)\n",
    "\n",
    "!vw -d ../../data/movie_reviews_train.vw \\\n",
    "--loss_function hinge -f movie_reviews_model.vw"
   ]
  },
  {
   "cell_type": "code",
   "execution_count": 42,
   "metadata": {},
   "outputs": [
    {
     "name": "stdout",
     "output_type": "stream",
     "text": [
      "only testing\n",
      "predictions = movie_test_pred.txt\n",
      "Num weight bits = 18\n",
      "learning rate = 0.5\n",
      "initial_t = 0\n",
      "power_t = 0.5\n",
      "using no cache\n",
      "Reading datafile = ../../data/movie_reviews_test.vw\n",
      "num sources = 1\n",
      "average  since         example        example  current  current  current\n",
      "loss     last          counter         weight    label  predict features\n",
      "0.000000 0.000000            1            1.0  -1.0000  -1.0000      253\n",
      "0.000000 0.000000            2            2.0   1.0000   1.0000       93\n",
      "0.000000 0.000000            4            4.0  -1.0000  -1.0000      107\n",
      "0.001769 0.003538            8            8.0   1.0000   1.0000      311\n",
      "0.231365 0.460960           16           16.0   1.0000   1.0000       96\n",
      "0.418271 0.605178           32           32.0  -1.0000  -1.0000      256\n",
      "0.293433 0.168594           64           64.0  -1.0000  -1.0000       81\n",
      "0.221601 0.149770          128          128.0  -1.0000  -1.0000      236\n",
      "0.279010 0.336419          256          256.0   1.0000  -0.8504      556\n",
      "0.308842 0.338673          512          512.0  -1.0000  -1.0000      284\n",
      "0.313488 0.318134         1024         1024.0  -1.0000  -0.7630       69\n",
      "0.315046 0.316604         2048         2048.0  -1.0000  -0.5261      172\n",
      "0.311277 0.307507         4096         4096.0   1.0000   1.0000       86\n",
      "0.325213 0.339149         8192         8192.0   1.0000   1.0000      123\n",
      "0.323434 0.321655        16384        16384.0   1.0000   1.0000      321\n",
      "\n",
      "finished run\n",
      "number of examples = 25000\n",
      "weighted example sum = 25000.000000\n",
      "weighted label sum = -54.000000\n",
      "average loss = 0.322249\n",
      "best constant = -0.002160\n",
      "best constant's loss = 0.999995\n",
      "total feature number = 4586264\n"
     ]
    }
   ],
   "source": [
    "# verbose mode (testing)\n",
    "\n",
    "!vw -i movie_reviews_model.vw -t -d ../../data/movie_reviews_test.vw \\\n",
    "-p movie_test_pred.txt"
   ]
  },
  {
   "cell_type": "code",
   "execution_count": 28,
   "metadata": {},
   "outputs": [],
   "source": [
    "from sklearn.metrics import accuracy_score\n",
    "from sklearn.metrics import roc_auc_score"
   ]
  },
  {
   "cell_type": "code",
   "execution_count": 29,
   "metadata": {},
   "outputs": [
    {
     "name": "stdout",
     "output_type": "stream",
     "text": [
      "Accuracy: 0.894\n",
      "AUC: 0.95\n"
     ]
    }
   ],
   "source": [
    "with open('movie_test_pred.txt') as pred_file:\n",
    "    test_prediction = [float(label) \n",
    "                             for label in pred_file.readlines()]\n",
    "print(\"Accuracy: {}\".format(round(accuracy_score(y_test, \n",
    "               [int(pred_prob > 0) for pred_prob in test_prediction]), 3)))\n",
    "print(\"AUC: {}\".format(round(roc_auc_score(y_test, test_prediction), 3)))"
   ]
  },
  {
   "cell_type": "code",
   "execution_count": null,
   "metadata": {},
   "outputs": [],
   "source": []
  }
 ],
 "metadata": {
  "kernelspec": {
   "display_name": "Python 3",
   "language": "python",
   "name": "python3"
  },
  "language_info": {
   "codemirror_mode": {
    "name": "ipython",
    "version": 3
   },
   "file_extension": ".py",
   "mimetype": "text/x-python",
   "name": "python",
   "nbconvert_exporter": "python",
   "pygments_lexer": "ipython3",
   "version": "3.7.0"
  }
 },
 "nbformat": 4,
 "nbformat_minor": 2
}
