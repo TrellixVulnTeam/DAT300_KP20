{
 "cells": [
  {
   "cell_type": "markdown",
   "metadata": {},
   "source": [
    "\"\"\n",
    "Updated 2019.09.17\n",
    "\n",
    "@author: Kristian Hovde Liland\n",
    "\"\"\"\n",
    "\n",
    "\"\"\"\n",
    "# Adaline cost visualization\n",
    "Use the Iris Adaline example from the 2019.09.16 lecture and visualize\n",
    "the cost as a function of the Adaline weights for each epoch/iteration:\n",
    "- Modify adaline.py to accumulate the weights (w_) associated with each of\n",
    "  the cost values.\n",
    "- Use 3D plotting from matplotlib \n",
    "  (https://matplotlib.org/mpl_toolkits/mplot3d/tutorial.html)\n",
    "  to plot the cost values as a function of the weights from adaline.\n",
    "\"\"\""
   ]
  },
  {
   "cell_type": "code",
   "execution_count": null,
   "metadata": {},
   "outputs": [],
   "source": []
  }
 ],
 "metadata": {
  "kernelspec": {
   "display_name": "Python 3",
   "language": "python",
   "name": "python3"
  },
  "language_info": {
   "codemirror_mode": {
    "name": "ipython",
    "version": 3
   },
   "file_extension": ".py",
   "mimetype": "text/x-python",
   "name": "python",
   "nbconvert_exporter": "python",
   "pygments_lexer": "ipython3",
   "version": "3.5.2"
  }
 },
 "nbformat": 4,
 "nbformat_minor": 2
}
